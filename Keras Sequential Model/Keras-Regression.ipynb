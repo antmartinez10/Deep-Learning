{
  "cells": [
    {
      "cell_type": "markdown",
      "source": [
        "### Homework 5 Sample Solution\n",
        "### Karen Mazidi\n",
        "\n",
        "### Step 1: Description\n",
        "\n",
        "This notebook performs regression to estimate the price of a car given various features. \n",
        "\n",
        "### Step 2: Load the data \n",
        "\n",
        "* upload the data\n",
        "* put the data in a pandas dataframe\n",
        "* output the data shape (rows, cols)\n",
        "* output the first few rows of the data"
      ],
      "metadata": {
        "id": "Lij9_HSB5H5Q"
      }
    },
    {
      "cell_type": "code",
      "source": [
        "# load the csv file up into the cloud\n",
        "import numpy as np\n",
        "import pandas as pd\n",
        "import io\n",
        "import seaborn as sb\n",
        "\n",
        "from google.colab import files\n",
        "uploaded = files.upload()"
      ],
      "outputs": [
        {
          "output_type": "display_data",
          "data": {
            "text/html": [
              "\n",
              "     <input type=\"file\" id=\"files-2cf29229-d67f-4c46-be70-a61347d79ddb\" name=\"files[]\" multiple disabled\n",
              "        style=\"border:none\" />\n",
              "     <output id=\"result-2cf29229-d67f-4c46-be70-a61347d79ddb\">\n",
              "      Upload widget is only available when the cell has been executed in the\n",
              "      current browser session. Please rerun this cell to enable.\n",
              "      </output>\n",
              "      <script src=\"/nbextensions/google.colab/files.js\"></script> "
            ],
            "text/plain": [
              "<IPython.core.display.HTML object>"
            ]
          },
          "metadata": {}
        },
        {
          "output_type": "stream",
          "name": "stdout",
          "text": [
            "Saving audi.csv to audi (3).csv\n"
          ]
        }
      ],
      "execution_count": 63,
      "metadata": {
        "id": "ZdSPFfzD5C4q",
        "execution": {
          "shell.execute_reply": "2022-02-09T17:57:30.731Z",
          "iopub.status.busy": "2022-02-09T17:57:30.817Z",
          "iopub.execute_input": "2022-02-09T17:57:30.826Z",
          "iopub.status.idle": "2022-02-09T17:57:30.840Z"
        },
        "colab": {
          "resources": {
            "http://localhost:8080/nbextensions/google.colab/files.js": {
              "data": "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",
              "ok": true,
              "headers": [
                [
                  "content-type",
                  "application/javascript"
                ]
              ],
              "status": 200,
              "status_text": ""
            }
          },
          "base_uri": "https://localhost:8080/",
          "height": 73
        },
        "outputId": "d942c8d1-5190-4b14-d8a0-c4e5db12b953"
      }
    },
    {
      "cell_type": "code",
      "source": [
        "# put the data in a pandas datafram\n",
        "df = pd.read_csv(io.BytesIO(uploaded['audi.csv']))\n",
        "\n",
        "# output the data shape\n",
        "df.shape\n",
        "\n",
        "# output the first few rows of the data\n",
        "df.head()"
      ],
      "outputs": [
        {
          "output_type": "execute_result",
          "data": {
            "text/html": [
              "\n",
              "  <div id=\"df-ff8981b3-3813-4008-84eb-51b706ba54bb\">\n",
              "    <div class=\"colab-df-container\">\n",
              "      <div>\n",
              "<style scoped>\n",
              "    .dataframe tbody tr th:only-of-type {\n",
              "        vertical-align: middle;\n",
              "    }\n",
              "\n",
              "    .dataframe tbody tr th {\n",
              "        vertical-align: top;\n",
              "    }\n",
              "\n",
              "    .dataframe thead th {\n",
              "        text-align: right;\n",
              "    }\n",
              "</style>\n",
              "<table border=\"1\" class=\"dataframe\">\n",
              "  <thead>\n",
              "    <tr style=\"text-align: right;\">\n",
              "      <th></th>\n",
              "      <th>model</th>\n",
              "      <th>year</th>\n",
              "      <th>price</th>\n",
              "      <th>transmission</th>\n",
              "      <th>mileage</th>\n",
              "      <th>fuelType</th>\n",
              "      <th>tax</th>\n",
              "      <th>mpg</th>\n",
              "      <th>engineSize</th>\n",
              "    </tr>\n",
              "  </thead>\n",
              "  <tbody>\n",
              "    <tr>\n",
              "      <th>0</th>\n",
              "      <td>A1</td>\n",
              "      <td>2017</td>\n",
              "      <td>12500</td>\n",
              "      <td>Manual</td>\n",
              "      <td>15735</td>\n",
              "      <td>Petrol</td>\n",
              "      <td>150</td>\n",
              "      <td>55.4</td>\n",
              "      <td>1.4</td>\n",
              "    </tr>\n",
              "    <tr>\n",
              "      <th>1</th>\n",
              "      <td>A6</td>\n",
              "      <td>2016</td>\n",
              "      <td>16500</td>\n",
              "      <td>Automatic</td>\n",
              "      <td>36203</td>\n",
              "      <td>Diesel</td>\n",
              "      <td>20</td>\n",
              "      <td>64.2</td>\n",
              "      <td>2.0</td>\n",
              "    </tr>\n",
              "    <tr>\n",
              "      <th>2</th>\n",
              "      <td>A1</td>\n",
              "      <td>2016</td>\n",
              "      <td>11000</td>\n",
              "      <td>Manual</td>\n",
              "      <td>29946</td>\n",
              "      <td>Petrol</td>\n",
              "      <td>30</td>\n",
              "      <td>55.4</td>\n",
              "      <td>1.4</td>\n",
              "    </tr>\n",
              "    <tr>\n",
              "      <th>3</th>\n",
              "      <td>A4</td>\n",
              "      <td>2017</td>\n",
              "      <td>16800</td>\n",
              "      <td>Automatic</td>\n",
              "      <td>25952</td>\n",
              "      <td>Diesel</td>\n",
              "      <td>145</td>\n",
              "      <td>67.3</td>\n",
              "      <td>2.0</td>\n",
              "    </tr>\n",
              "    <tr>\n",
              "      <th>4</th>\n",
              "      <td>A3</td>\n",
              "      <td>2019</td>\n",
              "      <td>17300</td>\n",
              "      <td>Manual</td>\n",
              "      <td>1998</td>\n",
              "      <td>Petrol</td>\n",
              "      <td>145</td>\n",
              "      <td>49.6</td>\n",
              "      <td>1.0</td>\n",
              "    </tr>\n",
              "  </tbody>\n",
              "</table>\n",
              "</div>\n",
              "      <button class=\"colab-df-convert\" onclick=\"convertToInteractive('df-ff8981b3-3813-4008-84eb-51b706ba54bb')\"\n",
              "              title=\"Convert this dataframe to an interactive table.\"\n",
              "              style=\"display:none;\">\n",
              "        \n",
              "  <svg xmlns=\"http://www.w3.org/2000/svg\" height=\"24px\"viewBox=\"0 0 24 24\"\n",
              "       width=\"24px\">\n",
              "    <path d=\"M0 0h24v24H0V0z\" fill=\"none\"/>\n",
              "    <path d=\"M18.56 5.44l.94 2.06.94-2.06 2.06-.94-2.06-.94-.94-2.06-.94 2.06-2.06.94zm-11 1L8.5 8.5l.94-2.06 2.06-.94-2.06-.94L8.5 2.5l-.94 2.06-2.06.94zm10 10l.94 2.06.94-2.06 2.06-.94-2.06-.94-.94-2.06-.94 2.06-2.06.94z\"/><path d=\"M17.41 7.96l-1.37-1.37c-.4-.4-.92-.59-1.43-.59-.52 0-1.04.2-1.43.59L10.3 9.45l-7.72 7.72c-.78.78-.78 2.05 0 2.83L4 21.41c.39.39.9.59 1.41.59.51 0 1.02-.2 1.41-.59l7.78-7.78 2.81-2.81c.8-.78.8-2.07 0-2.86zM5.41 20L4 18.59l7.72-7.72 1.47 1.35L5.41 20z\"/>\n",
              "  </svg>\n",
              "      </button>\n",
              "      \n",
              "  <style>\n",
              "    .colab-df-container {\n",
              "      display:flex;\n",
              "      flex-wrap:wrap;\n",
              "      gap: 12px;\n",
              "    }\n",
              "\n",
              "    .colab-df-convert {\n",
              "      background-color: #E8F0FE;\n",
              "      border: none;\n",
              "      border-radius: 50%;\n",
              "      cursor: pointer;\n",
              "      display: none;\n",
              "      fill: #1967D2;\n",
              "      height: 32px;\n",
              "      padding: 0 0 0 0;\n",
              "      width: 32px;\n",
              "    }\n",
              "\n",
              "    .colab-df-convert:hover {\n",
              "      background-color: #E2EBFA;\n",
              "      box-shadow: 0px 1px 2px rgba(60, 64, 67, 0.3), 0px 1px 3px 1px rgba(60, 64, 67, 0.15);\n",
              "      fill: #174EA6;\n",
              "    }\n",
              "\n",
              "    [theme=dark] .colab-df-convert {\n",
              "      background-color: #3B4455;\n",
              "      fill: #D2E3FC;\n",
              "    }\n",
              "\n",
              "    [theme=dark] .colab-df-convert:hover {\n",
              "      background-color: #434B5C;\n",
              "      box-shadow: 0px 1px 3px 1px rgba(0, 0, 0, 0.15);\n",
              "      filter: drop-shadow(0px 1px 2px rgba(0, 0, 0, 0.3));\n",
              "      fill: #FFFFFF;\n",
              "    }\n",
              "  </style>\n",
              "\n",
              "      <script>\n",
              "        const buttonEl =\n",
              "          document.querySelector('#df-ff8981b3-3813-4008-84eb-51b706ba54bb button.colab-df-convert');\n",
              "        buttonEl.style.display =\n",
              "          google.colab.kernel.accessAllowed ? 'block' : 'none';\n",
              "\n",
              "        async function convertToInteractive(key) {\n",
              "          const element = document.querySelector('#df-ff8981b3-3813-4008-84eb-51b706ba54bb');\n",
              "          const dataTable =\n",
              "            await google.colab.kernel.invokeFunction('convertToInteractive',\n",
              "                                                     [key], {});\n",
              "          if (!dataTable) return;\n",
              "\n",
              "          const docLinkHtml = 'Like what you see? Visit the ' +\n",
              "            '<a target=\"_blank\" href=https://colab.research.google.com/notebooks/data_table.ipynb>data table notebook</a>'\n",
              "            + ' to learn more about interactive tables.';\n",
              "          element.innerHTML = '';\n",
              "          dataTable['output_type'] = 'display_data';\n",
              "          await google.colab.output.renderOutput(dataTable, element);\n",
              "          const docLink = document.createElement('div');\n",
              "          docLink.innerHTML = docLinkHtml;\n",
              "          element.appendChild(docLink);\n",
              "        }\n",
              "      </script>\n",
              "    </div>\n",
              "  </div>\n",
              "  "
            ],
            "text/plain": [
              "  model  year  price transmission  mileage fuelType  tax   mpg  engineSize\n",
              "0    A1  2017  12500       Manual    15735   Petrol  150  55.4         1.4\n",
              "1    A6  2016  16500    Automatic    36203   Diesel   20  64.2         2.0\n",
              "2    A1  2016  11000       Manual    29946   Petrol   30  55.4         1.4\n",
              "3    A4  2017  16800    Automatic    25952   Diesel  145  67.3         2.0\n",
              "4    A3  2019  17300       Manual     1998   Petrol  145  49.6         1.0"
            ]
          },
          "metadata": {},
          "execution_count": 64
        }
      ],
      "execution_count": 64,
      "metadata": {
        "id": "j9v6Si4e5q78",
        "execution": {
          "iopub.status.busy": "2022-02-09T17:58:19.509Z",
          "iopub.execute_input": "2022-02-09T17:58:19.517Z",
          "iopub.status.idle": "2022-02-09T17:58:19.534Z",
          "shell.execute_reply": "2022-02-09T17:58:19.544Z"
        },
        "colab": {
          "base_uri": "https://localhost:8080/",
          "height": 206
        },
        "outputId": "23654533-e437-47cd-c947-d5639e3a04ed"
      }
    },
    {
      "cell_type": "markdown",
      "source": [
        "### Step 3 Data Exploration\n",
        "\n"
      ],
      "metadata": {
        "id": "0WRAuOL9kZLT"
      }
    },
    {
      "cell_type": "code",
      "source": [
        "df.dtypes"
      ],
      "outputs": [
        {
          "output_type": "execute_result",
          "data": {
            "text/plain": [
              "model            object\n",
              "year              int64\n",
              "price             int64\n",
              "transmission     object\n",
              "mileage           int64\n",
              "fuelType         object\n",
              "tax               int64\n",
              "mpg             float64\n",
              "engineSize      float64\n",
              "dtype: object"
            ]
          },
          "metadata": {},
          "execution_count": 65
        }
      ],
      "execution_count": 65,
      "metadata": {
        "id": "2x2KvkCJHBkC",
        "colab": {
          "base_uri": "https://localhost:8080/"
        },
        "outputId": "6be07541-b0c4-47ef-ca1b-0ffc75f1a02a"
      }
    },
    {
      "cell_type": "code",
      "source": [
        "# change categorical column type from object to category\n",
        "df = df.astype({\"model\":'category', \"transmission\":\"category\", \"fuelType\":\"category\"})\n",
        "df.dtypes"
      ],
      "outputs": [
        {
          "output_type": "execute_result",
          "data": {
            "text/plain": [
              "model           category\n",
              "year               int64\n",
              "price              int64\n",
              "transmission    category\n",
              "mileage            int64\n",
              "fuelType        category\n",
              "tax                int64\n",
              "mpg              float64\n",
              "engineSize       float64\n",
              "dtype: object"
            ]
          },
          "metadata": {},
          "execution_count": 66
        }
      ],
      "execution_count": 66,
      "metadata": {
        "id": "a3T2oWBqFWgb",
        "execution": {
          "iopub.status.busy": "2022-02-09T17:58:38.850Z",
          "iopub.execute_input": "2022-02-09T17:58:38.857Z",
          "iopub.status.idle": "2022-02-09T17:58:38.869Z",
          "shell.execute_reply": "2022-02-09T17:58:38.878Z"
        },
        "colab": {
          "base_uri": "https://localhost:8080/"
        },
        "outputId": "e9a84390-538e-465f-f30e-c8269d5c33c2"
      }
    },
    {
      "cell_type": "code",
      "source": [
        "# check for NAs\n",
        "df.isna().sum() # check if na over entier DF in one line of code\n"
      ],
      "outputs": [
        {
          "output_type": "execute_result",
          "data": {
            "text/plain": [
              "model           0\n",
              "year            0\n",
              "price           0\n",
              "transmission    0\n",
              "mileage         0\n",
              "fuelType        0\n",
              "tax             0\n",
              "mpg             0\n",
              "engineSize      0\n",
              "dtype: int64"
            ]
          },
          "metadata": {},
          "execution_count": 67
        }
      ],
      "execution_count": 67,
      "metadata": {
        "id": "EntWx_jY6fAQ",
        "execution": {
          "iopub.status.busy": "2022-02-09T17:58:50.400Z",
          "iopub.execute_input": "2022-02-09T17:58:50.406Z",
          "iopub.status.idle": "2022-02-09T17:58:50.418Z",
          "shell.execute_reply": "2022-02-09T17:58:50.424Z"
        },
        "colab": {
          "base_uri": "https://localhost:8080/"
        },
        "outputId": "26df762d-38f3-40bb-d5a2-854a297ab877"
      }
    },
    {
      "cell_type": "code",
      "source": [
        "# use describe() to examine the data\n",
        "df.describe()"
      ],
      "outputs": [
        {
          "output_type": "execute_result",
          "data": {
            "text/html": [
              "\n",
              "  <div id=\"df-c194b5a5-1779-4f89-82e1-bb63d9398f3e\">\n",
              "    <div class=\"colab-df-container\">\n",
              "      <div>\n",
              "<style scoped>\n",
              "    .dataframe tbody tr th:only-of-type {\n",
              "        vertical-align: middle;\n",
              "    }\n",
              "\n",
              "    .dataframe tbody tr th {\n",
              "        vertical-align: top;\n",
              "    }\n",
              "\n",
              "    .dataframe thead th {\n",
              "        text-align: right;\n",
              "    }\n",
              "</style>\n",
              "<table border=\"1\" class=\"dataframe\">\n",
              "  <thead>\n",
              "    <tr style=\"text-align: right;\">\n",
              "      <th></th>\n",
              "      <th>year</th>\n",
              "      <th>price</th>\n",
              "      <th>mileage</th>\n",
              "      <th>tax</th>\n",
              "      <th>mpg</th>\n",
              "      <th>engineSize</th>\n",
              "    </tr>\n",
              "  </thead>\n",
              "  <tbody>\n",
              "    <tr>\n",
              "      <th>count</th>\n",
              "      <td>10668.000000</td>\n",
              "      <td>10668.000000</td>\n",
              "      <td>10668.000000</td>\n",
              "      <td>10668.000000</td>\n",
              "      <td>10668.000000</td>\n",
              "      <td>10668.000000</td>\n",
              "    </tr>\n",
              "    <tr>\n",
              "      <th>mean</th>\n",
              "      <td>2017.100675</td>\n",
              "      <td>22896.685039</td>\n",
              "      <td>24827.244001</td>\n",
              "      <td>126.011436</td>\n",
              "      <td>50.770022</td>\n",
              "      <td>1.930709</td>\n",
              "    </tr>\n",
              "    <tr>\n",
              "      <th>std</th>\n",
              "      <td>2.167494</td>\n",
              "      <td>11714.841888</td>\n",
              "      <td>23505.257205</td>\n",
              "      <td>67.170294</td>\n",
              "      <td>12.949782</td>\n",
              "      <td>0.602957</td>\n",
              "    </tr>\n",
              "    <tr>\n",
              "      <th>min</th>\n",
              "      <td>1997.000000</td>\n",
              "      <td>1490.000000</td>\n",
              "      <td>1.000000</td>\n",
              "      <td>0.000000</td>\n",
              "      <td>18.900000</td>\n",
              "      <td>0.000000</td>\n",
              "    </tr>\n",
              "    <tr>\n",
              "      <th>25%</th>\n",
              "      <td>2016.000000</td>\n",
              "      <td>15130.750000</td>\n",
              "      <td>5968.750000</td>\n",
              "      <td>125.000000</td>\n",
              "      <td>40.900000</td>\n",
              "      <td>1.500000</td>\n",
              "    </tr>\n",
              "    <tr>\n",
              "      <th>50%</th>\n",
              "      <td>2017.000000</td>\n",
              "      <td>20200.000000</td>\n",
              "      <td>19000.000000</td>\n",
              "      <td>145.000000</td>\n",
              "      <td>49.600000</td>\n",
              "      <td>2.000000</td>\n",
              "    </tr>\n",
              "    <tr>\n",
              "      <th>75%</th>\n",
              "      <td>2019.000000</td>\n",
              "      <td>27990.000000</td>\n",
              "      <td>36464.500000</td>\n",
              "      <td>145.000000</td>\n",
              "      <td>58.900000</td>\n",
              "      <td>2.000000</td>\n",
              "    </tr>\n",
              "    <tr>\n",
              "      <th>max</th>\n",
              "      <td>2020.000000</td>\n",
              "      <td>145000.000000</td>\n",
              "      <td>323000.000000</td>\n",
              "      <td>580.000000</td>\n",
              "      <td>188.300000</td>\n",
              "      <td>6.300000</td>\n",
              "    </tr>\n",
              "  </tbody>\n",
              "</table>\n",
              "</div>\n",
              "      <button class=\"colab-df-convert\" onclick=\"convertToInteractive('df-c194b5a5-1779-4f89-82e1-bb63d9398f3e')\"\n",
              "              title=\"Convert this dataframe to an interactive table.\"\n",
              "              style=\"display:none;\">\n",
              "        \n",
              "  <svg xmlns=\"http://www.w3.org/2000/svg\" height=\"24px\"viewBox=\"0 0 24 24\"\n",
              "       width=\"24px\">\n",
              "    <path d=\"M0 0h24v24H0V0z\" fill=\"none\"/>\n",
              "    <path d=\"M18.56 5.44l.94 2.06.94-2.06 2.06-.94-2.06-.94-.94-2.06-.94 2.06-2.06.94zm-11 1L8.5 8.5l.94-2.06 2.06-.94-2.06-.94L8.5 2.5l-.94 2.06-2.06.94zm10 10l.94 2.06.94-2.06 2.06-.94-2.06-.94-.94-2.06-.94 2.06-2.06.94z\"/><path d=\"M17.41 7.96l-1.37-1.37c-.4-.4-.92-.59-1.43-.59-.52 0-1.04.2-1.43.59L10.3 9.45l-7.72 7.72c-.78.78-.78 2.05 0 2.83L4 21.41c.39.39.9.59 1.41.59.51 0 1.02-.2 1.41-.59l7.78-7.78 2.81-2.81c.8-.78.8-2.07 0-2.86zM5.41 20L4 18.59l7.72-7.72 1.47 1.35L5.41 20z\"/>\n",
              "  </svg>\n",
              "      </button>\n",
              "      \n",
              "  <style>\n",
              "    .colab-df-container {\n",
              "      display:flex;\n",
              "      flex-wrap:wrap;\n",
              "      gap: 12px;\n",
              "    }\n",
              "\n",
              "    .colab-df-convert {\n",
              "      background-color: #E8F0FE;\n",
              "      border: none;\n",
              "      border-radius: 50%;\n",
              "      cursor: pointer;\n",
              "      display: none;\n",
              "      fill: #1967D2;\n",
              "      height: 32px;\n",
              "      padding: 0 0 0 0;\n",
              "      width: 32px;\n",
              "    }\n",
              "\n",
              "    .colab-df-convert:hover {\n",
              "      background-color: #E2EBFA;\n",
              "      box-shadow: 0px 1px 2px rgba(60, 64, 67, 0.3), 0px 1px 3px 1px rgba(60, 64, 67, 0.15);\n",
              "      fill: #174EA6;\n",
              "    }\n",
              "\n",
              "    [theme=dark] .colab-df-convert {\n",
              "      background-color: #3B4455;\n",
              "      fill: #D2E3FC;\n",
              "    }\n",
              "\n",
              "    [theme=dark] .colab-df-convert:hover {\n",
              "      background-color: #434B5C;\n",
              "      box-shadow: 0px 1px 3px 1px rgba(0, 0, 0, 0.15);\n",
              "      filter: drop-shadow(0px 1px 2px rgba(0, 0, 0, 0.3));\n",
              "      fill: #FFFFFF;\n",
              "    }\n",
              "  </style>\n",
              "\n",
              "      <script>\n",
              "        const buttonEl =\n",
              "          document.querySelector('#df-c194b5a5-1779-4f89-82e1-bb63d9398f3e button.colab-df-convert');\n",
              "        buttonEl.style.display =\n",
              "          google.colab.kernel.accessAllowed ? 'block' : 'none';\n",
              "\n",
              "        async function convertToInteractive(key) {\n",
              "          const element = document.querySelector('#df-c194b5a5-1779-4f89-82e1-bb63d9398f3e');\n",
              "          const dataTable =\n",
              "            await google.colab.kernel.invokeFunction('convertToInteractive',\n",
              "                                                     [key], {});\n",
              "          if (!dataTable) return;\n",
              "\n",
              "          const docLinkHtml = 'Like what you see? Visit the ' +\n",
              "            '<a target=\"_blank\" href=https://colab.research.google.com/notebooks/data_table.ipynb>data table notebook</a>'\n",
              "            + ' to learn more about interactive tables.';\n",
              "          element.innerHTML = '';\n",
              "          dataTable['output_type'] = 'display_data';\n",
              "          await google.colab.output.renderOutput(dataTable, element);\n",
              "          const docLink = document.createElement('div');\n",
              "          docLink.innerHTML = docLinkHtml;\n",
              "          element.appendChild(docLink);\n",
              "        }\n",
              "      </script>\n",
              "    </div>\n",
              "  </div>\n",
              "  "
            ],
            "text/plain": [
              "               year          price  ...           mpg    engineSize\n",
              "count  10668.000000   10668.000000  ...  10668.000000  10668.000000\n",
              "mean    2017.100675   22896.685039  ...     50.770022      1.930709\n",
              "std        2.167494   11714.841888  ...     12.949782      0.602957\n",
              "min     1997.000000    1490.000000  ...     18.900000      0.000000\n",
              "25%     2016.000000   15130.750000  ...     40.900000      1.500000\n",
              "50%     2017.000000   20200.000000  ...     49.600000      2.000000\n",
              "75%     2019.000000   27990.000000  ...     58.900000      2.000000\n",
              "max     2020.000000  145000.000000  ...    188.300000      6.300000\n",
              "\n",
              "[8 rows x 6 columns]"
            ]
          },
          "metadata": {},
          "execution_count": 68
        }
      ],
      "execution_count": 68,
      "metadata": {
        "id": "NO3sOnhn6maa",
        "execution": {
          "iopub.status.busy": "2022-02-09T17:59:05.815Z",
          "iopub.execute_input": "2022-02-09T17:59:05.822Z",
          "iopub.status.idle": "2022-02-09T17:59:05.832Z",
          "shell.execute_reply": "2022-02-09T17:59:05.839Z"
        },
        "colab": {
          "base_uri": "https://localhost:8080/",
          "height": 300
        },
        "outputId": "106f7566-0027-48e8-dd31-7e0fb531c257"
      }
    },
    {
      "cell_type": "code",
      "source": [
        "# using seaborn, craete a lineplot() with year on the x axis and price on the y axis\n",
        "sb.lineplot(x=df['year'], y=df['price'])"
      ],
      "outputs": [
        {
          "output_type": "execute_result",
          "data": {
            "text/plain": [
              "<matplotlib.axes._subplots.AxesSubplot at 0x7fb98b13aa50>"
            ]
          },
          "metadata": {},
          "execution_count": 69
        },
        {
          "output_type": "display_data",
          "data": {
            "image/png": "[encoded data removed]",
            "text/plain": [
              "<Figure size 432x288 with 1 Axes>"
            ]
          },
          "metadata": {
            "needs_background": "light"
          }
        }
      ],
      "execution_count": 69,
      "metadata": {
        "id": "5i0mvNwO7AH8",
        "execution": {
          "iopub.status.busy": "2022-02-09T17:59:58.922Z",
          "iopub.execute_input": "2022-02-09T17:59:58.928Z",
          "iopub.status.idle": "2022-02-09T17:59:58.941Z",
          "shell.execute_reply": "2022-02-09T17:59:58.947Z"
        },
        "colab": {
          "base_uri": "https://localhost:8080/",
          "height": 297
        },
        "outputId": "c0a8835c-2635-4791-d8c7-a5aa5d1d2a10"
      }
    },
    {
      "cell_type": "code",
      "source": [
        "# create another plot exploring the data\n",
        "# choose columns and plot type\n",
        "\n",
        "sb.relplot(x='year', y='price', data=df)"
      ],
      "outputs": [
        {
          "output_type": "execute_result",
          "data": {
            "text/plain": [
              "<seaborn.axisgrid.FacetGrid at 0x7fb98b173f10>"
            ]
          },
          "metadata": {},
          "execution_count": 70
        },
        {
          "output_type": "display_data",
          "data": {
            "image/png": "[encoded data removed]",
            "text/plain": [
              "<Figure size 360x360 with 1 Axes>"
            ]
          },
          "metadata": {
            "needs_background": "light"
          }
        }
      ],
      "execution_count": 70,
      "metadata": {
        "id": "8ILFx3plBn53",
        "execution": {
          "iopub.status.busy": "2022-02-09T18:00:25.992Z",
          "iopub.execute_input": "2022-02-09T18:00:25.999Z",
          "iopub.status.idle": "2022-02-09T18:00:26.009Z",
          "shell.execute_reply": "2022-02-09T18:00:26.016Z"
        },
        "colab": {
          "base_uri": "https://localhost:8080/",
          "height": 387
        },
        "outputId": "96b64e1d-85f5-4b64-f4f5-213643049509"
      }
    },
    {
      "cell_type": "markdown",
      "source": [
        "### Step 4 Prepare Data\n",
        "\n",
        "You can use the code below for this step. \n",
        "\n"
      ],
      "metadata": {
        "id": "8piYMXh6B_Nc"
      }
    },
    {
      "cell_type": "code",
      "source": [
        "# set up X and y\n",
        "\n",
        "X=df.drop(columns=['price'],axis=1)\n",
        "y=df['price']"
      ],
      "outputs": [],
      "execution_count": 71,
      "metadata": {
        "id": "JhllC618CPM5"
      }
    },
    {
      "cell_type": "code",
      "source": [
        "import numpy as np\n",
        "from sklearn.preprocessing import MinMaxScaler, LabelBinarizer\n",
        "from sklearn.compose import ColumnTransformer\n",
        "from sklearn.model_selection import train_test_split\n",
        "\n",
        "\n",
        "X_train,X_test,y_train,y_test=train_test_split(X, y, test_size=0.2)\n",
        "\n",
        "# scale the numeric data\n",
        "col_list = ['year', 'mileage', 'tax', 'mpg', 'engineSize']\n",
        "scaler = MinMaxScaler()\n",
        "train_numeric = scaler.fit_transform(X_train[col_list])\n",
        "test_numeric = scaler.transform(X_test[col_list])\n",
        "\n",
        "# one-hot encode the categorical data for model, transmission, and fuelType\n",
        "# model\n",
        "zipBinarizer = LabelBinarizer().fit(df['model'])\n",
        "train_model = zipBinarizer.transform(X_train['model'])\n",
        "test_model = zipBinarizer.transform(X_test['model'])\n",
        "# transmission\n",
        "zipBinarizer = LabelBinarizer().fit(df['transmission'])\n",
        "train_transmission = zipBinarizer.transform(X_train['transmission'])\n",
        "test_transmission = zipBinarizer.transform(X_test['transmission'])\n",
        "# fuelType\n",
        "zipBinarizer = LabelBinarizer().fit(df['fuelType'])\n",
        "train_fuelType = zipBinarizer.transform(X_train['fuelType'])\n",
        "test_fuelType = zipBinarizer.transform(X_test['fuelType'])\n",
        "\n",
        "# concatenate\n",
        "X_train_input = np.hstack([train_numeric, train_model, train_transmission, train_fuelType])\n",
        "X_test_input = np.hstack([test_numeric, test_model, test_transmission, test_fuelType])\n",
        "\n",
        "print(X_train_input[:3])\n"
      ],
      "outputs": [
        {
          "output_type": "stream",
          "name": "stdout",
          "text": [
            "[[0.82608696 0.11764433 0.28448276 0.19716647 0.31746032 0.\n",
            "  0.         0.         0.         1.         0.         0.\n",
            "  0.         0.         0.         0.         0.         0.\n",
            "  0.         0.         0.         0.         0.         0.\n",
            "  0.         0.         0.         0.         0.         0.\n",
            "  0.         0.         0.         1.         1.         0.\n",
            "  0.        ]\n",
            " [0.7826087  0.14260416 0.21551724 0.18595041 0.22222222 0.\n",
            "  0.         0.         0.         0.         0.         0.\n",
            "  0.         0.         1.         0.         0.         0.\n",
            "  0.         0.         0.         0.         0.         0.\n",
            "  0.         0.         0.         0.         0.         0.\n",
            "  0.         0.         1.         0.         0.         0.\n",
            "  1.        ]\n",
            " [0.95652174 0.01500005 0.25       0.14521842 0.23809524 0.\n",
            "  0.         0.         0.         0.         0.         0.\n",
            "  0.         1.         0.         0.         0.         0.\n",
            "  0.         0.         0.         0.         0.         0.\n",
            "  0.         0.         0.         0.         0.         0.\n",
            "  0.         0.         1.         0.         0.         0.\n",
            "  1.        ]]\n"
          ]
        }
      ],
      "execution_count": 72,
      "metadata": {
        "id": "1Gi4lnnaCPUV",
        "colab": {
          "base_uri": "https://localhost:8080/"
        },
        "outputId": "e607177e-7611-40f5-82ea-4cfbe5a89885"
      }
    },
    {
      "cell_type": "markdown",
      "source": [
        "### Step 5 Linear regression\n",
        "\n",
        "Run linear regression in sklearn. "
      ],
      "metadata": {
        "id": "QbG9IUksmHci"
      }
    },
    {
      "cell_type": "code",
      "source": [
        "# train the algorithm\n",
        "from sklearn.linear_model import LinearRegression\n",
        "\n",
        "linreg = LinearRegression()\n",
        "linreg.fit(X_train_input, y_train)"
      ],
      "outputs": [
        {
          "output_type": "execute_result",
          "data": {
            "text/plain": [
              "LinearRegression()"
            ]
          },
          "metadata": {},
          "execution_count": 73
        }
      ],
      "execution_count": 73,
      "metadata": {
        "id": "5pgB8IzVCPbf",
        "execution": {
          "iopub.status.busy": "2022-02-09T18:01:24.149Z",
          "iopub.execute_input": "2022-02-09T18:01:24.156Z",
          "iopub.status.idle": "2022-02-09T18:01:24.168Z",
          "shell.execute_reply": "2022-02-09T18:01:24.174Z"
        },
        "colab": {
          "base_uri": "https://localhost:8080/"
        },
        "outputId": "8ff26ac5-22c8-4335-b6f2-4e936bd180d4"
      }
    },
    {
      "cell_type": "code",
      "source": [
        "# make predictions\n",
        "y_pred = linreg.predict(X_test_input)\n"
      ],
      "outputs": [],
      "execution_count": 74,
      "metadata": {
        "id": "VtxNA2xRC_9w",
        "execution": {
          "iopub.status.busy": "2022-02-09T18:01:29.090Z",
          "iopub.execute_input": "2022-02-09T18:01:29.096Z",
          "iopub.status.idle": "2022-02-09T18:01:29.108Z",
          "shell.execute_reply": "2022-02-09T18:01:29.114Z"
        }
      }
    },
    {
      "cell_type": "code",
      "source": [
        "# evaluation on the test data using mse, mae, and r2_score\n",
        "from sklearn.metrics import mean_squared_error, mean_absolute_error, r2_score\n",
        "\n",
        "print('MSE: ', mean_squared_error(y_test, y_pred))\n",
        "print('MAE: ', mean_absolute_error(y_test, y_pred))\n",
        "print('r2: ', r2_score(y_test, y_pred))"
      ],
      "outputs": [
        {
          "output_type": "stream",
          "name": "stdout",
          "text": [
            "MSE:  11345928.380506093\n",
            "MAE:  2376.294283036551\n",
            "r2:  0.8919432925801362\n"
          ]
        }
      ],
      "execution_count": 75,
      "metadata": {
        "id": "Nh_m31RSDAB5",
        "execution": {
          "iopub.status.busy": "2022-02-09T18:01:58.423Z",
          "iopub.execute_input": "2022-02-09T18:01:58.431Z",
          "iopub.status.idle": "2022-02-09T18:01:58.441Z",
          "shell.execute_reply": "2022-02-09T18:01:58.448Z"
        },
        "colab": {
          "base_uri": "https://localhost:8080/"
        },
        "outputId": "0388d9b2-ee8a-4c47-ffa6-1d1a147e7546"
      }
    },
    {
      "cell_type": "code",
      "source": [
        "# display the first 5 predictions\n",
        "print(y_pred[:5])"
      ],
      "outputs": [
        {
          "output_type": "stream",
          "name": "stdout",
          "text": [
            "[18446. 24198. 13558. 28990. 21068.]\n"
          ]
        }
      ],
      "execution_count": 76,
      "metadata": {
        "id": "6fWjIcfSjCIP",
        "execution": {
          "iopub.status.busy": "2022-02-09T18:02:11.834Z",
          "iopub.execute_input": "2022-02-09T18:02:11.840Z",
          "iopub.status.idle": "2022-02-09T18:02:11.851Z",
          "shell.execute_reply": "2022-02-09T18:02:11.856Z"
        },
        "colab": {
          "base_uri": "https://localhost:8080/"
        },
        "outputId": "85ad095e-a538-4092-c925-42b7e29fb73e"
      }
    },
    {
      "cell_type": "code",
      "source": [
        "# display the first 5 actual values\n",
        "print(y_test[:5])"
      ],
      "outputs": [
        {
          "output_type": "stream",
          "name": "stdout",
          "text": [
            "6353    20445\n",
            "2309    21965\n",
            "5279    16490\n",
            "761     31500\n",
            "6814    18100\n",
            "Name: price, dtype: int64\n"
          ]
        }
      ],
      "execution_count": 77,
      "metadata": {
        "id": "6014OTfujFtx",
        "execution": {
          "iopub.status.busy": "2022-02-09T18:02:22.023Z",
          "iopub.execute_input": "2022-02-09T18:02:22.028Z",
          "iopub.status.idle": "2022-02-09T18:02:22.038Z",
          "shell.execute_reply": "2022-02-09T18:02:22.043Z"
        },
        "colab": {
          "base_uri": "https://localhost:8080/"
        },
        "outputId": "80e2c5e9-630f-4038-bf1f-5fcbfccaa5cd"
      }
    },
    {
      "cell_type": "markdown",
      "source": [
        "### Regression in Keras"
      ],
      "metadata": {
        "id": "gifC_-jYmxf5"
      }
    },
    {
      "cell_type": "code",
      "source": [
        "# build a sequential model\n",
        "# choose the architecture\n",
        "\n",
        "from tensorflow import keras\n",
        "from tensorflow.keras import layers\n",
        "\n",
        "model = keras.Sequential([\n",
        "                          layers.Dense(500, activation='relu'),\n",
        "                          layers.Dense(250, activation='relu'),\n",
        "                          layers.Dense(50, activation='relu'),\n",
        "                          layers.Dense(1)                        \n",
        "])\n",
        "\n"
      ],
      "outputs": [],
      "execution_count": 78,
      "metadata": {
        "id": "YQWReKSIDAGg"
      }
    },
    {
      "cell_type": "code",
      "source": [
        "# compile the model\n",
        "model.compile(optimizer=\"rmsprop\", loss=\"mean_squared_error\", metrics=[\"mse\",\"mae\"])\n"
      ],
      "outputs": [],
      "execution_count": 79,
      "metadata": {
        "id": "0wRryCnQD2qX",
        "execution": {
          "iopub.status.busy": "2022-02-09T18:02:55.257Z",
          "iopub.execute_input": "2022-02-09T18:02:55.263Z",
          "iopub.status.idle": "2022-02-09T18:02:55.272Z",
          "shell.execute_reply": "2022-02-09T18:02:55.277Z"
        }
      }
    },
    {
      "cell_type": "code",
      "source": [
        "# train the model\n",
        "model.fit(X_train_input, y_train, epochs=200, batch_size=128)\n"
      ],
      "outputs": [
        {
          "output_type": "stream",
          "name": "stdout",
          "text": [
            "Epoch 1/200\n",
            "67/67 [==============================] - 0s 6ms/step - loss: 6246574.0000 - mse: 6246574.0000 - mae: 1708.0011\n",
            "Epoch 2/200\n",
            "67/67 [==============================] - 0s 6ms/step - loss: 6293600.5000 - mse: 6293600.5000 - mae: 1709.2031\n",
            "Epoch 3/200\n",
            "67/67 [==============================] - 0s 6ms/step - loss: 6286015.5000 - mse: 6286015.5000 - mae: 1704.2633\n",
            "Epoch 4/200\n",
            "67/67 [==============================] - 0s 6ms/step - loss: 6231088.0000 - mse: 6231088.0000 - mae: 1700.6010\n",
            "Epoch 5/200\n",
            "67/67 [==============================] - 0s 6ms/step - loss: 6292225.0000 - mse: 6292225.0000 - mae: 1709.0103\n",
            "Epoch 6/200\n",
            "67/67 [==============================] - 0s 6ms/step - loss: 6267861.0000 - mse: 6267861.0000 - mae: 1702.5846\n",
            "Epoch 7/200\n",
            "67/67 [==============================] - 0s 5ms/step - loss: 6287717.5000 - mse: 6287717.5000 - mae: 1710.9348\n",
            "Epoch 8/200\n",
            "67/67 [==============================] - 0s 5ms/step - loss: 6243523.0000 - mse: 6243523.0000 - mae: 1701.1642\n",
            "Epoch 9/200\n",
            "67/67 [==============================] - 0s 6ms/step - loss: 6247949.5000 - mse: 6247949.5000 - mae: 1698.1272\n",
            "Epoch 10/200\n",
            "67/67 [==============================] - 0s 5ms/step - loss: 6190495.5000 - mse: 6190495.5000 - mae: 1699.6879\n",
            "Epoch 11/200\n",
            "67/67 [==============================] - 0s 6ms/step - loss: 6259844.0000 - mse: 6259844.0000 - mae: 1709.8861\n",
            "Epoch 12/200\n",
            "67/67 [==============================] - 0s 6ms/step - loss: 6260018.0000 - mse: 6260018.0000 - mae: 1704.8361\n",
            "Epoch 13/200\n",
            "67/67 [==============================] - 1s 10ms/step - loss: 6229183.5000 - mse: 6229183.5000 - mae: 1700.1993\n",
            "Epoch 14/200\n",
            "67/67 [==============================] - 1s 8ms/step - loss: 6246292.0000 - mse: 6246292.0000 - mae: 1699.3956\n",
            "Epoch 15/200\n",
            "67/67 [==============================] - 1s 8ms/step - loss: 6159132.5000 - mse: 6159132.5000 - mae: 1690.3494\n",
            "Epoch 16/200\n",
            "67/67 [==============================] - 1s 8ms/step - loss: 6168810.0000 - mse: 6168810.0000 - mae: 1701.6183\n",
            "Epoch 17/200\n",
            "67/67 [==============================] - 1s 8ms/step - loss: 6214421.0000 - mse: 6214421.0000 - mae: 1706.4410\n",
            "Epoch 18/200\n",
            "67/67 [==============================] - 1s 8ms/step - loss: 6224100.5000 - mse: 6224100.5000 - mae: 1704.5497\n",
            "Epoch 19/200\n",
            "67/67 [==============================] - 1s 9ms/step - loss: 6191520.0000 - mse: 6191520.0000 - mae: 1698.6925\n",
            "Epoch 20/200\n",
            "67/67 [==============================] - 0s 7ms/step - loss: 6169176.0000 - mse: 6169176.0000 - mae: 1690.4362\n",
            "Epoch 21/200\n",
            "67/67 [==============================] - 1s 8ms/step - loss: 6160846.5000 - mse: 6160846.5000 - mae: 1689.4990\n",
            "Epoch 22/200\n",
            "67/67 [==============================] - 1s 9ms/step - loss: 6246495.0000 - mse: 6246495.0000 - mae: 1704.7938\n",
            "Epoch 23/200\n",
            "67/67 [==============================] - 0s 6ms/step - loss: 6168713.5000 - mse: 6168713.5000 - mae: 1693.3696\n",
            "Epoch 24/200\n",
            "67/67 [==============================] - 0s 5ms/step - loss: 6222907.5000 - mse: 6222907.5000 - mae: 1696.3768\n",
            "Epoch 25/200\n",
            "67/67 [==============================] - 0s 5ms/step - loss: 6121267.0000 - mse: 6121267.0000 - mae: 1689.5305\n",
            "Epoch 26/200\n",
            "67/67 [==============================] - 0s 5ms/step - loss: 6170348.5000 - mse: 6170348.5000 - mae: 1701.9556\n",
            "Epoch 27/200\n",
            "67/67 [==============================] - 0s 5ms/step - loss: 6123222.5000 - mse: 6123222.5000 - mae: 1683.1926\n",
            "Epoch 28/200\n",
            "67/67 [==============================] - 0s 5ms/step - loss: 6195431.5000 - mse: 6195431.5000 - mae: 1695.2856\n",
            "Epoch 29/200\n",
            "67/67 [==============================] - 0s 5ms/step - loss: 6125894.0000 - mse: 6125894.0000 - mae: 1690.3945\n",
            "Epoch 30/200\n",
            "67/67 [==============================] - 0s 5ms/step - loss: 6166276.0000 - mse: 6166276.0000 - mae: 1693.7632\n",
            "Epoch 31/200\n",
            "67/67 [==============================] - 0s 6ms/step - loss: 6140996.0000 - mse: 6140996.0000 - mae: 1683.0696\n",
            "Epoch 32/200\n",
            "67/67 [==============================] - 0s 5ms/step - loss: 6169562.0000 - mse: 6169562.0000 - mae: 1684.9410\n",
            "Epoch 33/200\n",
            "67/67 [==============================] - 0s 5ms/step - loss: 6123406.5000 - mse: 6123406.5000 - mae: 1692.7852\n",
            "Epoch 34/200\n",
            "67/67 [==============================] - 0s 6ms/step - loss: 6146628.5000 - mse: 6146628.5000 - mae: 1692.8054\n",
            "Epoch 35/200\n",
            "67/67 [==============================] - 0s 5ms/step - loss: 6137173.5000 - mse: 6137173.5000 - mae: 1688.3026\n",
            "Epoch 36/200\n",
            "67/67 [==============================] - 0s 6ms/step - loss: 6137460.0000 - mse: 6137460.0000 - mae: 1686.6664\n",
            "Epoch 37/200\n",
            "67/67 [==============================] - 0s 6ms/step - loss: 6094860.5000 - mse: 6094860.5000 - mae: 1693.3945\n",
            "Epoch 38/200\n",
            "67/67 [==============================] - 0s 6ms/step - loss: 6088413.5000 - mse: 6088413.5000 - mae: 1687.0701\n",
            "Epoch 39/200\n",
            "67/67 [==============================] - 0s 5ms/step - loss: 6096601.5000 - mse: 6096601.5000 - mae: 1691.3561\n",
            "Epoch 40/200\n",
            "67/67 [==============================] - 0s 6ms/step - loss: 6124153.5000 - mse: 6124153.5000 - mae: 1690.9448\n",
            "Epoch 41/200\n",
            "67/67 [==============================] - 0s 5ms/step - loss: 6144146.5000 - mse: 6144146.5000 - mae: 1688.1278\n",
            "Epoch 42/200\n",
            "67/67 [==============================] - 0s 6ms/step - loss: 6120344.5000 - mse: 6120344.5000 - mae: 1686.5736\n",
            "Epoch 43/200\n",
            "67/67 [==============================] - 0s 5ms/step - loss: 6138269.0000 - mse: 6138269.0000 - mae: 1692.0991\n",
            "Epoch 44/200\n",
            "67/67 [==============================] - 0s 5ms/step - loss: 6120851.5000 - mse: 6120851.5000 - mae: 1684.5573\n",
            "Epoch 45/200\n",
            "67/67 [==============================] - 0s 5ms/step - loss: 6115770.5000 - mse: 6115770.5000 - mae: 1687.1522\n",
            "Epoch 46/200\n",
            "67/67 [==============================] - 0s 5ms/step - loss: 6069699.0000 - mse: 6069699.0000 - mae: 1679.5093\n",
            "Epoch 47/200\n",
            "67/67 [==============================] - 0s 5ms/step - loss: 6104042.0000 - mse: 6104042.0000 - mae: 1683.8087\n",
            "Epoch 48/200\n",
            "67/67 [==============================] - 0s 5ms/step - loss: 6103486.5000 - mse: 6103486.5000 - mae: 1684.7163\n",
            "Epoch 49/200\n",
            "67/67 [==============================] - 0s 6ms/step - loss: 6131747.5000 - mse: 6131747.5000 - mae: 1689.4600\n",
            "Epoch 50/200\n",
            "67/67 [==============================] - 0s 6ms/step - loss: 6065541.5000 - mse: 6065541.5000 - mae: 1678.9696\n",
            "Epoch 51/200\n",
            "67/67 [==============================] - 0s 5ms/step - loss: 6074511.5000 - mse: 6074511.5000 - mae: 1682.8784\n",
            "Epoch 52/200\n",
            "67/67 [==============================] - 0s 5ms/step - loss: 6123570.0000 - mse: 6123570.0000 - mae: 1685.1769\n",
            "Epoch 53/200\n",
            "67/67 [==============================] - 0s 6ms/step - loss: 6101486.5000 - mse: 6101486.5000 - mae: 1682.2529\n",
            "Epoch 54/200\n",
            "67/67 [==============================] - 0s 5ms/step - loss: 6108552.0000 - mse: 6108552.0000 - mae: 1682.8894\n",
            "Epoch 55/200\n",
            "67/67 [==============================] - 0s 5ms/step - loss: 6103416.0000 - mse: 6103416.0000 - mae: 1681.7743\n",
            "Epoch 56/200\n",
            "67/67 [==============================] - 0s 6ms/step - loss: 6003017.5000 - mse: 6003017.5000 - mae: 1676.7733\n",
            "Epoch 57/200\n",
            "67/67 [==============================] - 0s 5ms/step - loss: 6027497.0000 - mse: 6027497.0000 - mae: 1680.1248\n",
            "Epoch 58/200\n",
            "67/67 [==============================] - 0s 5ms/step - loss: 6080333.5000 - mse: 6080333.5000 - mae: 1678.3240\n",
            "Epoch 59/200\n",
            "67/67 [==============================] - 0s 6ms/step - loss: 6097668.5000 - mse: 6097668.5000 - mae: 1687.3053\n",
            "Epoch 60/200\n",
            "67/67 [==============================] - 0s 5ms/step - loss: 6080898.0000 - mse: 6080898.0000 - mae: 1678.9196\n",
            "Epoch 61/200\n",
            "67/67 [==============================] - 0s 6ms/step - loss: 6002105.5000 - mse: 6002105.5000 - mae: 1682.2524\n",
            "Epoch 62/200\n",
            "67/67 [==============================] - 0s 5ms/step - loss: 6044232.0000 - mse: 6044232.0000 - mae: 1670.4886\n",
            "Epoch 63/200\n",
            "67/67 [==============================] - 0s 5ms/step - loss: 6108935.0000 - mse: 6108935.0000 - mae: 1676.2999\n",
            "Epoch 64/200\n",
            "67/67 [==============================] - 0s 6ms/step - loss: 6028093.5000 - mse: 6028093.5000 - mae: 1677.4269\n",
            "Epoch 65/200\n",
            "67/67 [==============================] - 0s 5ms/step - loss: 6022146.5000 - mse: 6022146.5000 - mae: 1680.1310\n",
            "Epoch 66/200\n",
            "67/67 [==============================] - 0s 5ms/step - loss: 6038469.0000 - mse: 6038469.0000 - mae: 1675.1218\n",
            "Epoch 67/200\n",
            "67/67 [==============================] - 0s 5ms/step - loss: 6021126.0000 - mse: 6021126.0000 - mae: 1673.4078\n",
            "Epoch 68/200\n",
            "67/67 [==============================] - 0s 5ms/step - loss: 6037305.0000 - mse: 6037305.0000 - mae: 1680.5173\n",
            "Epoch 69/200\n",
            "67/67 [==============================] - 0s 5ms/step - loss: 6004739.0000 - mse: 6004739.0000 - mae: 1669.6946\n",
            "Epoch 70/200\n",
            "67/67 [==============================] - 0s 6ms/step - loss: 5999078.5000 - mse: 5999078.5000 - mae: 1671.9902\n",
            "Epoch 71/200\n",
            "67/67 [==============================] - 0s 6ms/step - loss: 6016226.0000 - mse: 6016226.0000 - mae: 1668.6705\n",
            "Epoch 72/200\n",
            "67/67 [==============================] - 0s 5ms/step - loss: 5956821.5000 - mse: 5956821.5000 - mae: 1673.3981\n",
            "Epoch 73/200\n",
            "67/67 [==============================] - 0s 5ms/step - loss: 6018735.0000 - mse: 6018735.0000 - mae: 1667.1151\n",
            "Epoch 74/200\n",
            "67/67 [==============================] - 0s 6ms/step - loss: 6033097.5000 - mse: 6033097.5000 - mae: 1674.6263\n",
            "Epoch 75/200\n",
            "67/67 [==============================] - 0s 6ms/step - loss: 6066581.0000 - mse: 6066581.0000 - mae: 1683.4821\n",
            "Epoch 76/200\n",
            "67/67 [==============================] - 0s 6ms/step - loss: 6043295.0000 - mse: 6043295.0000 - mae: 1675.5334\n",
            "Epoch 77/200\n",
            "67/67 [==============================] - 0s 5ms/step - loss: 5949820.0000 - mse: 5949820.0000 - mae: 1667.0856\n",
            "Epoch 78/200\n",
            "67/67 [==============================] - 0s 6ms/step - loss: 5970769.0000 - mse: 5970769.0000 - mae: 1665.4821\n",
            "Epoch 79/200\n",
            "67/67 [==============================] - 0s 6ms/step - loss: 6015873.5000 - mse: 6015873.5000 - mae: 1674.4768\n",
            "Epoch 80/200\n",
            "67/67 [==============================] - 0s 6ms/step - loss: 5955087.0000 - mse: 5955087.0000 - mae: 1665.7004\n",
            "Epoch 81/200\n",
            "67/67 [==============================] - 0s 6ms/step - loss: 6010181.5000 - mse: 6010181.5000 - mae: 1668.5209\n",
            "Epoch 82/200\n",
            "67/67 [==============================] - 0s 5ms/step - loss: 5976026.0000 - mse: 5976026.0000 - mae: 1668.7996\n",
            "Epoch 83/200\n",
            "67/67 [==============================] - 1s 8ms/step - loss: 5976815.5000 - mse: 5976815.5000 - mae: 1666.6932\n",
            "Epoch 84/200\n",
            "67/67 [==============================] - 1s 8ms/step - loss: 5966236.0000 - mse: 5966236.0000 - mae: 1661.8403\n",
            "Epoch 85/200\n",
            "67/67 [==============================] - 0s 6ms/step - loss: 5944756.0000 - mse: 5944756.0000 - mae: 1670.0347\n",
            "Epoch 86/200\n",
            "67/67 [==============================] - 0s 6ms/step - loss: 5968770.5000 - mse: 5968770.5000 - mae: 1662.1348\n",
            "Epoch 87/200\n",
            "67/67 [==============================] - 0s 6ms/step - loss: 6013341.5000 - mse: 6013341.5000 - mae: 1670.2073\n",
            "Epoch 88/200\n",
            "67/67 [==============================] - 0s 6ms/step - loss: 5966470.5000 - mse: 5966470.5000 - mae: 1672.3450\n",
            "Epoch 89/200\n",
            "67/67 [==============================] - 0s 6ms/step - loss: 6019076.0000 - mse: 6019076.0000 - mae: 1674.1565\n",
            "Epoch 90/200\n",
            "67/67 [==============================] - 0s 6ms/step - loss: 5962241.0000 - mse: 5962241.0000 - mae: 1660.8737\n",
            "Epoch 91/200\n",
            "67/67 [==============================] - 0s 5ms/step - loss: 5957709.5000 - mse: 5957709.5000 - mae: 1664.4287\n",
            "Epoch 92/200\n",
            "67/67 [==============================] - 0s 5ms/step - loss: 5881340.5000 - mse: 5881340.5000 - mae: 1661.5167\n",
            "Epoch 93/200\n",
            "67/67 [==============================] - 0s 6ms/step - loss: 5932788.0000 - mse: 5932788.0000 - mae: 1660.4529\n",
            "Epoch 94/200\n",
            "67/67 [==============================] - 0s 5ms/step - loss: 5975961.0000 - mse: 5975961.0000 - mae: 1659.7302\n",
            "Epoch 95/200\n",
            "67/67 [==============================] - 0s 5ms/step - loss: 5955564.0000 - mse: 5955564.0000 - mae: 1661.4890\n",
            "Epoch 96/200\n",
            "67/67 [==============================] - 0s 6ms/step - loss: 5914835.0000 - mse: 5914835.0000 - mae: 1655.9211\n",
            "Epoch 97/200\n",
            "67/67 [==============================] - 0s 6ms/step - loss: 5896789.5000 - mse: 5896789.5000 - mae: 1656.5103\n",
            "Epoch 98/200\n",
            "67/67 [==============================] - 0s 6ms/step - loss: 5961866.5000 - mse: 5961866.5000 - mae: 1661.1382\n",
            "Epoch 99/200\n",
            "67/67 [==============================] - 0s 5ms/step - loss: 5874376.0000 - mse: 5874376.0000 - mae: 1652.8057\n",
            "Epoch 100/200\n",
            "67/67 [==============================] - 0s 6ms/step - loss: 5950821.0000 - mse: 5950821.0000 - mae: 1659.0325\n",
            "Epoch 101/200\n",
            "67/67 [==============================] - 0s 6ms/step - loss: 5913199.0000 - mse: 5913199.0000 - mae: 1660.9906\n",
            "Epoch 102/200\n",
            "67/67 [==============================] - 0s 6ms/step - loss: 5984993.0000 - mse: 5984993.0000 - mae: 1659.8268\n",
            "Epoch 103/200\n",
            "67/67 [==============================] - 0s 6ms/step - loss: 5826542.5000 - mse: 5826542.5000 - mae: 1652.2993\n",
            "Epoch 104/200\n",
            "67/67 [==============================] - 0s 5ms/step - loss: 5912004.0000 - mse: 5912004.0000 - mae: 1659.0771\n",
            "Epoch 105/200\n",
            "67/67 [==============================] - 0s 6ms/step - loss: 5829076.5000 - mse: 5829076.5000 - mae: 1648.6722\n",
            "Epoch 106/200\n",
            "67/67 [==============================] - 0s 5ms/step - loss: 5935314.0000 - mse: 5935314.0000 - mae: 1655.3422\n",
            "Epoch 107/200\n",
            "67/67 [==============================] - 0s 6ms/step - loss: 5954536.0000 - mse: 5954536.0000 - mae: 1664.0854\n",
            "Epoch 108/200\n",
            "67/67 [==============================] - 0s 5ms/step - loss: 5895312.5000 - mse: 5895312.5000 - mae: 1650.1053\n",
            "Epoch 109/200\n",
            "67/67 [==============================] - 0s 6ms/step - loss: 5889282.0000 - mse: 5889282.0000 - mae: 1652.4630\n",
            "Epoch 110/200\n",
            "67/67 [==============================] - 0s 6ms/step - loss: 5874100.0000 - mse: 5874100.0000 - mae: 1652.8971\n",
            "Epoch 111/200\n",
            "67/67 [==============================] - 0s 5ms/step - loss: 5888725.5000 - mse: 5888725.5000 - mae: 1651.4325\n",
            "Epoch 112/200\n",
            "67/67 [==============================] - 0s 5ms/step - loss: 5873531.5000 - mse: 5873531.5000 - mae: 1650.6155\n",
            "Epoch 113/200\n",
            "67/67 [==============================] - 0s 5ms/step - loss: 5866101.0000 - mse: 5866101.0000 - mae: 1652.6638\n",
            "Epoch 114/200\n",
            "67/67 [==============================] - 0s 6ms/step - loss: 5856434.0000 - mse: 5856434.0000 - mae: 1653.7115\n",
            "Epoch 115/200\n",
            "67/67 [==============================] - 0s 6ms/step - loss: 5896951.0000 - mse: 5896951.0000 - mae: 1659.0311\n",
            "Epoch 116/200\n",
            "67/67 [==============================] - 0s 5ms/step - loss: 5833765.5000 - mse: 5833765.5000 - mae: 1651.1958\n",
            "Epoch 117/200\n",
            "67/67 [==============================] - 0s 6ms/step - loss: 5907647.5000 - mse: 5907647.5000 - mae: 1654.0652\n",
            "Epoch 118/200\n",
            "67/67 [==============================] - 0s 6ms/step - loss: 5822945.5000 - mse: 5822945.5000 - mae: 1651.8488\n",
            "Epoch 119/200\n",
            "67/67 [==============================] - 0s 6ms/step - loss: 5911556.0000 - mse: 5911556.0000 - mae: 1653.2887\n",
            "Epoch 120/200\n",
            "67/67 [==============================] - 0s 5ms/step - loss: 5792976.0000 - mse: 5792976.0000 - mae: 1645.5437\n",
            "Epoch 121/200\n",
            "67/67 [==============================] - 0s 6ms/step - loss: 5858008.0000 - mse: 5858008.0000 - mae: 1649.2024\n",
            "Epoch 122/200\n",
            "67/67 [==============================] - 0s 6ms/step - loss: 5913346.5000 - mse: 5913346.5000 - mae: 1654.4807\n",
            "Epoch 123/200\n",
            "67/67 [==============================] - 0s 5ms/step - loss: 5829308.5000 - mse: 5829308.5000 - mae: 1640.1074\n",
            "Epoch 124/200\n",
            "67/67 [==============================] - 0s 6ms/step - loss: 5827403.0000 - mse: 5827403.0000 - mae: 1640.9366\n",
            "Epoch 125/200\n",
            "67/67 [==============================] - 0s 6ms/step - loss: 5783442.0000 - mse: 5783442.0000 - mae: 1641.6107\n",
            "Epoch 126/200\n",
            "67/67 [==============================] - 0s 6ms/step - loss: 5801822.5000 - mse: 5801822.5000 - mae: 1649.9460\n",
            "Epoch 127/200\n",
            "67/67 [==============================] - 0s 6ms/step - loss: 5794320.5000 - mse: 5794320.5000 - mae: 1638.5024\n",
            "Epoch 128/200\n",
            "67/67 [==============================] - 0s 6ms/step - loss: 5843721.5000 - mse: 5843721.5000 - mae: 1645.9948\n",
            "Epoch 129/200\n",
            "67/67 [==============================] - 0s 6ms/step - loss: 5813913.5000 - mse: 5813913.5000 - mae: 1644.0076\n",
            "Epoch 130/200\n",
            "67/67 [==============================] - 0s 6ms/step - loss: 5868050.5000 - mse: 5868050.5000 - mae: 1645.5043\n",
            "Epoch 131/200\n",
            "67/67 [==============================] - 0s 6ms/step - loss: 5802164.0000 - mse: 5802164.0000 - mae: 1642.8071\n",
            "Epoch 132/200\n",
            "67/67 [==============================] - 0s 6ms/step - loss: 5790736.5000 - mse: 5790736.5000 - mae: 1639.6827\n",
            "Epoch 133/200\n",
            "67/67 [==============================] - 0s 6ms/step - loss: 5820358.0000 - mse: 5820358.0000 - mae: 1646.8301\n",
            "Epoch 134/200\n",
            "67/67 [==============================] - 0s 6ms/step - loss: 5785861.0000 - mse: 5785861.0000 - mae: 1638.8127\n",
            "Epoch 135/200\n",
            "67/67 [==============================] - 0s 6ms/step - loss: 5815375.5000 - mse: 5815375.5000 - mae: 1644.9235\n",
            "Epoch 136/200\n",
            "67/67 [==============================] - 0s 6ms/step - loss: 5797787.5000 - mse: 5797787.5000 - mae: 1646.4401\n",
            "Epoch 137/200\n",
            "67/67 [==============================] - 0s 6ms/step - loss: 5789977.5000 - mse: 5789977.5000 - mae: 1639.5109\n",
            "Epoch 138/200\n",
            "67/67 [==============================] - 0s 6ms/step - loss: 5763771.5000 - mse: 5763771.5000 - mae: 1642.1984\n",
            "Epoch 139/200\n",
            "67/67 [==============================] - 0s 6ms/step - loss: 5864260.5000 - mse: 5864260.5000 - mae: 1645.4886\n",
            "Epoch 140/200\n",
            "67/67 [==============================] - 0s 6ms/step - loss: 5769264.0000 - mse: 5769264.0000 - mae: 1634.5940\n",
            "Epoch 141/200\n",
            "67/67 [==============================] - 0s 6ms/step - loss: 5747166.5000 - mse: 5747166.5000 - mae: 1638.4883\n",
            "Epoch 142/200\n",
            "67/67 [==============================] - 0s 6ms/step - loss: 5739732.0000 - mse: 5739732.0000 - mae: 1637.0181\n",
            "Epoch 143/200\n",
            "67/67 [==============================] - 0s 6ms/step - loss: 5761376.5000 - mse: 5761376.5000 - mae: 1636.5645\n",
            "Epoch 144/200\n",
            "67/67 [==============================] - 0s 6ms/step - loss: 5800162.5000 - mse: 5800162.5000 - mae: 1650.5863\n",
            "Epoch 145/200\n",
            "67/67 [==============================] - 0s 6ms/step - loss: 5758505.5000 - mse: 5758505.5000 - mae: 1638.9495\n",
            "Epoch 146/200\n",
            "67/67 [==============================] - 0s 6ms/step - loss: 5750690.0000 - mse: 5750690.0000 - mae: 1636.9351\n",
            "Epoch 147/200\n",
            "67/67 [==============================] - 0s 6ms/step - loss: 5812906.0000 - mse: 5812906.0000 - mae: 1641.0925\n",
            "Epoch 148/200\n",
            "67/67 [==============================] - 0s 6ms/step - loss: 5760653.5000 - mse: 5760653.5000 - mae: 1635.8433\n",
            "Epoch 149/200\n",
            "67/67 [==============================] - 0s 6ms/step - loss: 5840505.5000 - mse: 5840505.5000 - mae: 1644.3602\n",
            "Epoch 150/200\n",
            "67/67 [==============================] - 0s 6ms/step - loss: 5766650.5000 - mse: 5766650.5000 - mae: 1634.0007\n",
            "Epoch 151/200\n",
            "67/67 [==============================] - 0s 6ms/step - loss: 5798969.0000 - mse: 5798969.0000 - mae: 1638.9146\n",
            "Epoch 152/200\n",
            "67/67 [==============================] - 0s 6ms/step - loss: 5710538.0000 - mse: 5710538.0000 - mae: 1638.5977\n",
            "Epoch 153/200\n",
            "67/67 [==============================] - 0s 6ms/step - loss: 5751966.5000 - mse: 5751966.5000 - mae: 1638.2684\n",
            "Epoch 154/200\n",
            "67/67 [==============================] - 0s 6ms/step - loss: 5746406.0000 - mse: 5746406.0000 - mae: 1641.2985\n",
            "Epoch 155/200\n",
            "67/67 [==============================] - 0s 5ms/step - loss: 5712360.5000 - mse: 5712360.5000 - mae: 1636.6077\n",
            "Epoch 156/200\n",
            "67/67 [==============================] - 0s 6ms/step - loss: 5700177.0000 - mse: 5700177.0000 - mae: 1630.8052\n",
            "Epoch 157/200\n",
            "67/67 [==============================] - 0s 5ms/step - loss: 5780489.5000 - mse: 5780489.5000 - mae: 1636.3712\n",
            "Epoch 158/200\n",
            "67/67 [==============================] - 0s 5ms/step - loss: 5694344.5000 - mse: 5694344.5000 - mae: 1623.5988\n",
            "Epoch 159/200\n",
            "67/67 [==============================] - 0s 6ms/step - loss: 5706011.0000 - mse: 5706011.0000 - mae: 1629.9532\n",
            "Epoch 160/200\n",
            "67/67 [==============================] - 0s 6ms/step - loss: 5710811.0000 - mse: 5710811.0000 - mae: 1629.4110\n",
            "Epoch 161/200\n",
            "67/67 [==============================] - 0s 6ms/step - loss: 5717421.5000 - mse: 5717421.5000 - mae: 1635.1624\n",
            "Epoch 162/200\n",
            "67/67 [==============================] - 0s 6ms/step - loss: 5674856.5000 - mse: 5674856.5000 - mae: 1624.2349\n",
            "Epoch 163/200\n",
            "67/67 [==============================] - 0s 6ms/step - loss: 5747487.0000 - mse: 5747487.0000 - mae: 1633.4041\n",
            "Epoch 164/200\n",
            "67/67 [==============================] - 0s 5ms/step - loss: 5703662.5000 - mse: 5703662.0000 - mae: 1625.1095\n",
            "Epoch 165/200\n",
            "67/67 [==============================] - 0s 6ms/step - loss: 5670386.5000 - mse: 5670386.5000 - mae: 1626.1819\n",
            "Epoch 166/200\n",
            "67/67 [==============================] - 0s 6ms/step - loss: 5719570.5000 - mse: 5719570.5000 - mae: 1631.2777\n",
            "Epoch 167/200\n",
            "67/67 [==============================] - 0s 6ms/step - loss: 5715902.0000 - mse: 5715902.0000 - mae: 1632.6539\n",
            "Epoch 168/200\n",
            "67/67 [==============================] - 0s 5ms/step - loss: 5721893.0000 - mse: 5721893.0000 - mae: 1637.6437\n",
            "Epoch 169/200\n",
            "67/67 [==============================] - 0s 5ms/step - loss: 5645082.5000 - mse: 5645082.5000 - mae: 1620.6891\n",
            "Epoch 170/200\n",
            "67/67 [==============================] - 0s 6ms/step - loss: 5751092.0000 - mse: 5751092.0000 - mae: 1631.2704\n",
            "Epoch 171/200\n",
            "67/67 [==============================] - 0s 6ms/step - loss: 5677824.5000 - mse: 5677824.5000 - mae: 1627.4257\n",
            "Epoch 172/200\n",
            "67/67 [==============================] - 0s 6ms/step - loss: 5710753.0000 - mse: 5710753.0000 - mae: 1633.6746\n",
            "Epoch 173/200\n",
            "67/67 [==============================] - 0s 6ms/step - loss: 5743219.0000 - mse: 5743219.0000 - mae: 1624.9534\n",
            "Epoch 174/200\n",
            "67/67 [==============================] - 0s 6ms/step - loss: 5706810.5000 - mse: 5706810.5000 - mae: 1620.4359\n",
            "Epoch 175/200\n",
            "67/67 [==============================] - 0s 6ms/step - loss: 5621756.5000 - mse: 5621756.5000 - mae: 1619.5013\n",
            "Epoch 176/200\n",
            "67/67 [==============================] - 0s 5ms/step - loss: 5730939.5000 - mse: 5730939.5000 - mae: 1629.0571\n",
            "Epoch 177/200\n",
            "67/67 [==============================] - 0s 6ms/step - loss: 5661729.0000 - mse: 5661729.0000 - mae: 1619.3350\n",
            "Epoch 178/200\n",
            "67/67 [==============================] - 0s 6ms/step - loss: 5723742.5000 - mse: 5723742.5000 - mae: 1634.8385\n",
            "Epoch 179/200\n",
            "67/67 [==============================] - 0s 6ms/step - loss: 5639868.0000 - mse: 5639868.0000 - mae: 1615.5051\n",
            "Epoch 180/200\n",
            "67/67 [==============================] - 0s 6ms/step - loss: 5678269.0000 - mse: 5678269.0000 - mae: 1623.7731\n",
            "Epoch 181/200\n",
            "67/67 [==============================] - 0s 6ms/step - loss: 5694639.5000 - mse: 5694639.5000 - mae: 1620.2373\n",
            "Epoch 182/200\n",
            "67/67 [==============================] - 0s 6ms/step - loss: 5653988.5000 - mse: 5653988.5000 - mae: 1618.2262\n",
            "Epoch 183/200\n",
            "67/67 [==============================] - 0s 5ms/step - loss: 5672595.5000 - mse: 5672595.5000 - mae: 1623.8119\n",
            "Epoch 184/200\n",
            "67/67 [==============================] - 0s 6ms/step - loss: 5694643.5000 - mse: 5694643.5000 - mae: 1629.0337\n",
            "Epoch 185/200\n",
            "67/67 [==============================] - 0s 6ms/step - loss: 5656530.0000 - mse: 5656530.0000 - mae: 1622.8954\n",
            "Epoch 186/200\n",
            "67/67 [==============================] - 0s 5ms/step - loss: 5712928.5000 - mse: 5712928.5000 - mae: 1627.9873\n",
            "Epoch 187/200\n",
            "67/67 [==============================] - 0s 6ms/step - loss: 5630673.5000 - mse: 5630673.5000 - mae: 1626.6625\n",
            "Epoch 188/200\n",
            "67/67 [==============================] - 0s 5ms/step - loss: 5597554.5000 - mse: 5597554.5000 - mae: 1615.5396\n",
            "Epoch 189/200\n",
            "67/67 [==============================] - 0s 6ms/step - loss: 5609315.5000 - mse: 5609315.5000 - mae: 1616.6616\n",
            "Epoch 190/200\n",
            "67/67 [==============================] - 0s 6ms/step - loss: 5684272.0000 - mse: 5684272.0000 - mae: 1620.8590\n",
            "Epoch 191/200\n",
            "67/67 [==============================] - 0s 6ms/step - loss: 5629713.0000 - mse: 5629713.0000 - mae: 1623.5122\n",
            "Epoch 192/200\n",
            "67/67 [==============================] - 0s 6ms/step - loss: 5598194.5000 - mse: 5598194.5000 - mae: 1616.7179\n",
            "Epoch 193/200\n",
            "67/67 [==============================] - 0s 6ms/step - loss: 5662344.0000 - mse: 5662344.0000 - mae: 1621.3514\n",
            "Epoch 194/200\n",
            "67/67 [==============================] - 0s 6ms/step - loss: 5660242.0000 - mse: 5660242.0000 - mae: 1615.9423\n",
            "Epoch 195/200\n",
            "67/67 [==============================] - 0s 6ms/step - loss: 5647227.5000 - mse: 5647227.5000 - mae: 1620.3546\n",
            "Epoch 196/200\n",
            "67/67 [==============================] - 0s 6ms/step - loss: 5588794.0000 - mse: 5588794.0000 - mae: 1613.4869\n",
            "Epoch 197/200\n",
            "67/67 [==============================] - 0s 6ms/step - loss: 5689869.0000 - mse: 5689869.0000 - mae: 1611.2679\n",
            "Epoch 198/200\n",
            "67/67 [==============================] - 0s 6ms/step - loss: 5632668.0000 - mse: 5632668.0000 - mae: 1614.7717\n",
            "Epoch 199/200\n",
            "67/67 [==============================] - 0s 5ms/step - loss: 5662209.5000 - mse: 5662209.5000 - mae: 1617.3813\n",
            "Epoch 200/200\n",
            "67/67 [==============================] - 0s 6ms/step - loss: 5654130.0000 - mse: 5654130.0000 - mae: 1613.4125\n"
          ]
        },
        {
          "output_type": "execute_result",
          "data": {
            "text/plain": [
              "<keras.callbacks.History at 0x7fb98acd4210>"
            ]
          },
          "metadata": {},
          "execution_count": 89
        }
      ],
      "execution_count": 89,
      "metadata": {
        "id": "2S9rgkHBD2ux",
        "execution": {
          "iopub.status.busy": "2022-02-09T18:03:01.932Z",
          "iopub.execute_input": "2022-02-09T18:03:01.939Z",
          "iopub.status.idle": "2022-02-09T18:03:01.949Z",
          "shell.execute_reply": "2022-02-09T18:03:01.955Z"
        },
        "colab": {
          "base_uri": "https://localhost:8080/"
        },
        "outputId": "6e5d5543-4cdd-4510-f39d-ac8a3a5db622"
      }
    },
    {
      "cell_type": "code",
      "source": [
        "# output test mse score, test mae score\n",
        "\n",
        "\n",
        "model.evaluate(X_test_input, y_test)\n",
        "\n"
      ],
      "outputs": [
        {
          "output_type": "stream",
          "name": "stdout",
          "text": [
            "67/67 [==============================] - 0s 2ms/step - loss: 5767478.5000 - mse: 5767478.5000 - mae: 1724.6068\n"
          ]
        },
        {
          "output_type": "execute_result",
          "data": {
            "text/plain": [
              "[5767478.5, 5767478.5, 1724.6068115234375]"
            ]
          },
          "metadata": {},
          "execution_count": 88
        }
      ],
      "execution_count": 88,
      "metadata": {
        "id": "Uq8OiVoVD2zk",
        "execution": {
          "iopub.status.busy": "2022-02-09T18:03:19.101Z",
          "iopub.execute_input": "2022-02-09T18:03:19.107Z",
          "iopub.status.idle": "2022-02-09T18:03:19.117Z",
          "shell.execute_reply": "2022-02-09T18:03:19.124Z"
        },
        "colab": {
          "base_uri": "https://localhost:8080/"
        },
        "outputId": "70de7ee7-09c9-41a1-faf9-258c2d76e5de"
      }
    },
    {
      "cell_type": "markdown",
      "source": [
        "### Step 7 Commentary\n",
        "\n",
        "Answer the following questions:\n",
        "\n",
        "a. Compare metrics from sklearn and Keras. \n",
        "\n",
        "\n",
        "b. Explore the data a bit more to speculate on why you achieved the results you got. \n",
        "\n",
        "\n",
        "c. Describe all the architectures/hyperparameters you tried and the results. What do you conclude?\n",
        "\n"
      ],
      "metadata": {
        "id": "7zB7XtbknGn2"
      }
    },
    {
      "cell_type": "markdown",
      "source": [
        "first i tried \n",
        "\n",
        "model = keras.Sequential([\n",
        "                          layers.Dense(5, activation='relu'),\n",
        "                          \n",
        "])\n",
        "and\n",
        "\n",
        "model.compile(optimizer=\"rmsprop\",\n",
        "              loss=\"mean_squared_error\",\n",
        "              metrics=[\"mse\", 'mae']) \n",
        "\n",
        "results: mse: 675202112.0000 - mae: 23048.5840\n",
        "\n",
        "\n",
        "NExt i change arch to 64, 64, 1 and upped the epochs to 100 from 5\n",
        "9855431.0000 - mae: 2057.0847"
      ],
      "metadata": {
        "id": "dVz2upmD5wHS"
      }
    }
  ],
  "metadata": {
    "colab": {
      "name": "Hm5-amm180005.ipynb",
      "provenance": [],
      "collapsed_sections": []
    },
    "kernelspec": {
      "name": "python3",
      "display_name": "Python 3"
    },
    "language_info": {
      "name": "python",
      "version": "3.7.3",
      "mimetype": "text/x-python",
      "codemirror_mode": {
        "name": "ipython",
        "version": 3
      },
      "pygments_lexer": "ipython3",
      "nbconvert_exporter": "python",
      "file_extension": ".py"
    },
    "nteract": {
      "version": "0.28.0"
    }
  },
  "nbformat": 4,
  "nbformat_minor": 0
}