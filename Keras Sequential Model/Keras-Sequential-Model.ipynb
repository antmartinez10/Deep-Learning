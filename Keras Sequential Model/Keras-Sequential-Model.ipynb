{
  "cells": [
    {
      "cell_type": "markdown",
      "source": [
        "### Homework 5 \n",
        "### Anthony Martinez | amm180005\n",
        "\n",
        "### Step 1: Description\n",
        "\n",
        "This notebook performs regression to estimate the price of a car given various features. \n",
        "\n",
        "### Step 2: Load the data \n",
        "\n",
        "* upload the data\n",
        "* put the data in a pandas dataframe\n",
        "* output the data shape (rows, cols)\n",
        "* output the first few rows of the data"
      ],
      "metadata": {
        "id": "Lij9_HSB5H5Q"
      }
    },
    {
      "cell_type": "code",
      "source": [
        "# load the csv file up into the cloud\n",
        "import numpy as np\n",
        "import pandas as pd\n",
        "import io\n",
        "import seaborn as sb\n",
        "\n",
        "from google.colab import files\n",
        "uploaded = files.upload()"
      ],
      "outputs": [
        {
          "output_type": "display_data",
          "data": {
            "text/html": [
              "\n",
              "     <input type=\"file\" id=\"files-e2613c0b-eb20-4e0a-9e26-8c5c0de102f0\" name=\"files[]\" multiple disabled\n",
              "        style=\"border:none\" />\n",
              "     <output id=\"result-e2613c0b-eb20-4e0a-9e26-8c5c0de102f0\">\n",
              "      Upload widget is only available when the cell has been executed in the\n",
              "      current browser session. Please rerun this cell to enable.\n",
              "      </output>\n",
              "      <script src=\"/nbextensions/google.colab/files.js\"></script> "
            ],
            "text/plain": [
              "<IPython.core.display.HTML object>"
            ]
          },
          "metadata": {}
        },
        {
          "output_type": "stream",
          "name": "stdout",
          "text": [
            "Saving audi.csv to audi.csv\n"
          ]
        }
      ],
      "execution_count": null,
      "metadata": {
        "id": "ZdSPFfzD5C4q",
        "execution": {
          "shell.execute_reply": "2022-02-09T17:57:30.731Z",
          "iopub.status.busy": "2022-02-09T17:57:30.817Z",
          "iopub.execute_input": "2022-02-09T17:57:30.826Z",
          "iopub.status.idle": "2022-02-09T17:57:30.840Z"
        },
        "colab": {
          "resources": {
            "http://localhost:8080/nbextensions/google.colab/files.js": {
              "data": "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",
              "ok": true,
              "headers": [
                [
                  "content-type",
                  "application/javascript"
                ]
              ],
              "status": 200,
              "status_text": ""
            }
          },
          "base_uri": "https://localhost:8080/",
          "height": 73
        },
        "outputId": "5a9f4d7b-e827-41d2-e890-49e51bd44cef"
      }
    },
    {
      "cell_type": "code",
      "source": [
        "# put the data in a pandas datafram\n",
        "df = pd.read_csv(io.BytesIO(uploaded['audi.csv']))\n",
        "\n",
        "# output the data shape\n",
        "df.shape\n",
        "\n",
        "# output the first few rows of the data\n",
        "df.head()"
      ],
      "outputs": [
        {
          "output_type": "execute_result",
          "data": {
            "text/html": [
              "\n",
              "  <div id=\"df-b74147f4-c1c6-4e9d-a052-c73e52b0c7b1\">\n",
              "    <div class=\"colab-df-container\">\n",
              "      <div>\n",
              "<style scoped>\n",
              "    .dataframe tbody tr th:only-of-type {\n",
              "        vertical-align: middle;\n",
              "    }\n",
              "\n",
              "    .dataframe tbody tr th {\n",
              "        vertical-align: top;\n",
              "    }\n",
              "\n",
              "    .dataframe thead th {\n",
              "        text-align: right;\n",
              "    }\n",
              "</style>\n",
              "<table border=\"1\" class=\"dataframe\">\n",
              "  <thead>\n",
              "    <tr style=\"text-align: right;\">\n",
              "      <th></th>\n",
              "      <th>model</th>\n",
              "      <th>year</th>\n",
              "      <th>price</th>\n",
              "      <th>transmission</th>\n",
              "      <th>mileage</th>\n",
              "      <th>fuelType</th>\n",
              "      <th>tax</th>\n",
              "      <th>mpg</th>\n",
              "      <th>engineSize</th>\n",
              "    </tr>\n",
              "  </thead>\n",
              "  <tbody>\n",
              "    <tr>\n",
              "      <th>0</th>\n",
              "      <td>A1</td>\n",
              "      <td>2017</td>\n",
              "      <td>12500</td>\n",
              "      <td>Manual</td>\n",
              "      <td>15735</td>\n",
              "      <td>Petrol</td>\n",
              "      <td>150</td>\n",
              "      <td>55.4</td>\n",
              "      <td>1.4</td>\n",
              "    </tr>\n",
              "    <tr>\n",
              "      <th>1</th>\n",
              "      <td>A6</td>\n",
              "      <td>2016</td>\n",
              "      <td>16500</td>\n",
              "      <td>Automatic</td>\n",
              "      <td>36203</td>\n",
              "      <td>Diesel</td>\n",
              "      <td>20</td>\n",
              "      <td>64.2</td>\n",
              "      <td>2.0</td>\n",
              "    </tr>\n",
              "    <tr>\n",
              "      <th>2</th>\n",
              "      <td>A1</td>\n",
              "      <td>2016</td>\n",
              "      <td>11000</td>\n",
              "      <td>Manual</td>\n",
              "      <td>29946</td>\n",
              "      <td>Petrol</td>\n",
              "      <td>30</td>\n",
              "      <td>55.4</td>\n",
              "      <td>1.4</td>\n",
              "    </tr>\n",
              "    <tr>\n",
              "      <th>3</th>\n",
              "      <td>A4</td>\n",
              "      <td>2017</td>\n",
              "      <td>16800</td>\n",
              "      <td>Automatic</td>\n",
              "      <td>25952</td>\n",
              "      <td>Diesel</td>\n",
              "      <td>145</td>\n",
              "      <td>67.3</td>\n",
              "      <td>2.0</td>\n",
              "    </tr>\n",
              "    <tr>\n",
              "      <th>4</th>\n",
              "      <td>A3</td>\n",
              "      <td>2019</td>\n",
              "      <td>17300</td>\n",
              "      <td>Manual</td>\n",
              "      <td>1998</td>\n",
              "      <td>Petrol</td>\n",
              "      <td>145</td>\n",
              "      <td>49.6</td>\n",
              "      <td>1.0</td>\n",
              "    </tr>\n",
              "  </tbody>\n",
              "</table>\n",
              "</div>\n",
              "      <button class=\"colab-df-convert\" onclick=\"convertToInteractive('df-b74147f4-c1c6-4e9d-a052-c73e52b0c7b1')\"\n",
              "              title=\"Convert this dataframe to an interactive table.\"\n",
              "              style=\"display:none;\">\n",
              "        \n",
              "  <svg xmlns=\"http://www.w3.org/2000/svg\" height=\"24px\"viewBox=\"0 0 24 24\"\n",
              "       width=\"24px\">\n",
              "    <path d=\"M0 0h24v24H0V0z\" fill=\"none\"/>\n",
              "    <path d=\"M18.56 5.44l.94 2.06.94-2.06 2.06-.94-2.06-.94-.94-2.06-.94 2.06-2.06.94zm-11 1L8.5 8.5l.94-2.06 2.06-.94-2.06-.94L8.5 2.5l-.94 2.06-2.06.94zm10 10l.94 2.06.94-2.06 2.06-.94-2.06-.94-.94-2.06-.94 2.06-2.06.94z\"/><path d=\"M17.41 7.96l-1.37-1.37c-.4-.4-.92-.59-1.43-.59-.52 0-1.04.2-1.43.59L10.3 9.45l-7.72 7.72c-.78.78-.78 2.05 0 2.83L4 21.41c.39.39.9.59 1.41.59.51 0 1.02-.2 1.41-.59l7.78-7.78 2.81-2.81c.8-.78.8-2.07 0-2.86zM5.41 20L4 18.59l7.72-7.72 1.47 1.35L5.41 20z\"/>\n",
              "  </svg>\n",
              "      </button>\n",
              "      \n",
              "  <style>\n",
              "    .colab-df-container {\n",
              "      display:flex;\n",
              "      flex-wrap:wrap;\n",
              "      gap: 12px;\n",
              "    }\n",
              "\n",
              "    .colab-df-convert {\n",
              "      background-color: #E8F0FE;\n",
              "      border: none;\n",
              "      border-radius: 50%;\n",
              "      cursor: pointer;\n",
              "      display: none;\n",
              "      fill: #1967D2;\n",
              "      height: 32px;\n",
              "      padding: 0 0 0 0;\n",
              "      width: 32px;\n",
              "    }\n",
              "\n",
              "    .colab-df-convert:hover {\n",
              "      background-color: #E2EBFA;\n",
              "      box-shadow: 0px 1px 2px rgba(60, 64, 67, 0.3), 0px 1px 3px 1px rgba(60, 64, 67, 0.15);\n",
              "      fill: #174EA6;\n",
              "    }\n",
              "\n",
              "    [theme=dark] .colab-df-convert {\n",
              "      background-color: #3B4455;\n",
              "      fill: #D2E3FC;\n",
              "    }\n",
              "\n",
              "    [theme=dark] .colab-df-convert:hover {\n",
              "      background-color: #434B5C;\n",
              "      box-shadow: 0px 1px 3px 1px rgba(0, 0, 0, 0.15);\n",
              "      filter: drop-shadow(0px 1px 2px rgba(0, 0, 0, 0.3));\n",
              "      fill: #FFFFFF;\n",
              "    }\n",
              "  </style>\n",
              "\n",
              "      <script>\n",
              "        const buttonEl =\n",
              "          document.querySelector('#df-b74147f4-c1c6-4e9d-a052-c73e52b0c7b1 button.colab-df-convert');\n",
              "        buttonEl.style.display =\n",
              "          google.colab.kernel.accessAllowed ? 'block' : 'none';\n",
              "\n",
              "        async function convertToInteractive(key) {\n",
              "          const element = document.querySelector('#df-b74147f4-c1c6-4e9d-a052-c73e52b0c7b1');\n",
              "          const dataTable =\n",
              "            await google.colab.kernel.invokeFunction('convertToInteractive',\n",
              "                                                     [key], {});\n",
              "          if (!dataTable) return;\n",
              "\n",
              "          const docLinkHtml = 'Like what you see? Visit the ' +\n",
              "            '<a target=\"_blank\" href=https://colab.research.google.com/notebooks/data_table.ipynb>data table notebook</a>'\n",
              "            + ' to learn more about interactive tables.';\n",
              "          element.innerHTML = '';\n",
              "          dataTable['output_type'] = 'display_data';\n",
              "          await google.colab.output.renderOutput(dataTable, element);\n",
              "          const docLink = document.createElement('div');\n",
              "          docLink.innerHTML = docLinkHtml;\n",
              "          element.appendChild(docLink);\n",
              "        }\n",
              "      </script>\n",
              "    </div>\n",
              "  </div>\n",
              "  "
            ],
            "text/plain": [
              "  model  year  price transmission  mileage fuelType  tax   mpg  engineSize\n",
              "0    A1  2017  12500       Manual    15735   Petrol  150  55.4         1.4\n",
              "1    A6  2016  16500    Automatic    36203   Diesel   20  64.2         2.0\n",
              "2    A1  2016  11000       Manual    29946   Petrol   30  55.4         1.4\n",
              "3    A4  2017  16800    Automatic    25952   Diesel  145  67.3         2.0\n",
              "4    A3  2019  17300       Manual     1998   Petrol  145  49.6         1.0"
            ]
          },
          "metadata": {},
          "execution_count": 2
        }
      ],
      "execution_count": null,
      "metadata": {
        "id": "j9v6Si4e5q78",
        "execution": {
          "iopub.status.busy": "2022-02-09T17:58:19.509Z",
          "iopub.execute_input": "2022-02-09T17:58:19.517Z",
          "iopub.status.idle": "2022-02-09T17:58:19.534Z",
          "shell.execute_reply": "2022-02-09T17:58:19.544Z"
        },
        "colab": {
          "base_uri": "https://localhost:8080/",
          "height": 203
        },
        "outputId": "31acfe1e-9904-4bdb-c8c7-3d4e77c41eee"
      }
    },
    {
      "cell_type": "markdown",
      "source": [
        "### Step 3 Data Exploration\n",
        "\n"
      ],
      "metadata": {
        "id": "0WRAuOL9kZLT"
      }
    },
    {
      "cell_type": "code",
      "source": [
        "df.dtypes"
      ],
      "outputs": [
        {
          "output_type": "execute_result",
          "data": {
            "text/plain": [
              "model            object\n",
              "year              int64\n",
              "price             int64\n",
              "transmission     object\n",
              "mileage           int64\n",
              "fuelType         object\n",
              "tax               int64\n",
              "mpg             float64\n",
              "engineSize      float64\n",
              "dtype: object"
            ]
          },
          "metadata": {},
          "execution_count": 3
        }
      ],
      "execution_count": null,
      "metadata": {
        "id": "2x2KvkCJHBkC",
        "colab": {
          "base_uri": "https://localhost:8080/"
        },
        "outputId": "d894e22f-e95f-4f4f-fe15-5a073c621218"
      }
    },
    {
      "cell_type": "code",
      "source": [
        "# change categorical column type from object to category\n",
        "df = df.astype({\"model\":'category', \"transmission\":\"category\", \"fuelType\":\"category\"})\n",
        "df.dtypes"
      ],
      "outputs": [
        {
          "output_type": "execute_result",
          "data": {
            "text/plain": [
              "model           category\n",
              "year               int64\n",
              "price              int64\n",
              "transmission    category\n",
              "mileage            int64\n",
              "fuelType        category\n",
              "tax                int64\n",
              "mpg              float64\n",
              "engineSize       float64\n",
              "dtype: object"
            ]
          },
          "metadata": {},
          "execution_count": 4
        }
      ],
      "execution_count": null,
      "metadata": {
        "id": "a3T2oWBqFWgb",
        "execution": {
          "iopub.status.busy": "2022-02-09T17:58:38.850Z",
          "iopub.execute_input": "2022-02-09T17:58:38.857Z",
          "iopub.status.idle": "2022-02-09T17:58:38.869Z",
          "shell.execute_reply": "2022-02-09T17:58:38.878Z"
        },
        "colab": {
          "base_uri": "https://localhost:8080/"
        },
        "outputId": "07749a54-872f-47c2-f48a-1a1c8b594b64"
      }
    },
    {
      "cell_type": "code",
      "source": [
        "# check for NAs\n",
        "df.isna().sum() # check if na over entier DF in one line of code\n"
      ],
      "outputs": [
        {
          "output_type": "execute_result",
          "data": {
            "text/plain": [
              "model           0\n",
              "year            0\n",
              "price           0\n",
              "transmission    0\n",
              "mileage         0\n",
              "fuelType        0\n",
              "tax             0\n",
              "mpg             0\n",
              "engineSize      0\n",
              "dtype: int64"
            ]
          },
          "metadata": {},
          "execution_count": 5
        }
      ],
      "execution_count": null,
      "metadata": {
        "id": "EntWx_jY6fAQ",
        "execution": {
          "iopub.status.busy": "2022-02-09T17:58:50.400Z",
          "iopub.execute_input": "2022-02-09T17:58:50.406Z",
          "iopub.status.idle": "2022-02-09T17:58:50.418Z",
          "shell.execute_reply": "2022-02-09T17:58:50.424Z"
        },
        "colab": {
          "base_uri": "https://localhost:8080/"
        },
        "outputId": "cc359813-ffae-4d88-f9fe-e6ea78d4b02e"
      }
    },
    {
      "cell_type": "code",
      "source": [
        "# use describe() to examine the data\n",
        "df.describe()"
      ],
      "outputs": [
        {
          "output_type": "execute_result",
          "data": {
            "text/html": [
              "\n",
              "  <div id=\"df-56033a04-cc96-4182-bf3e-f3e6c781ca4b\">\n",
              "    <div class=\"colab-df-container\">\n",
              "      <div>\n",
              "<style scoped>\n",
              "    .dataframe tbody tr th:only-of-type {\n",
              "        vertical-align: middle;\n",
              "    }\n",
              "\n",
              "    .dataframe tbody tr th {\n",
              "        vertical-align: top;\n",
              "    }\n",
              "\n",
              "    .dataframe thead th {\n",
              "        text-align: right;\n",
              "    }\n",
              "</style>\n",
              "<table border=\"1\" class=\"dataframe\">\n",
              "  <thead>\n",
              "    <tr style=\"text-align: right;\">\n",
              "      <th></th>\n",
              "      <th>year</th>\n",
              "      <th>price</th>\n",
              "      <th>mileage</th>\n",
              "      <th>tax</th>\n",
              "      <th>mpg</th>\n",
              "      <th>engineSize</th>\n",
              "    </tr>\n",
              "  </thead>\n",
              "  <tbody>\n",
              "    <tr>\n",
              "      <th>count</th>\n",
              "      <td>10668.000000</td>\n",
              "      <td>10668.000000</td>\n",
              "      <td>10668.000000</td>\n",
              "      <td>10668.000000</td>\n",
              "      <td>10668.000000</td>\n",
              "      <td>10668.000000</td>\n",
              "    </tr>\n",
              "    <tr>\n",
              "      <th>mean</th>\n",
              "      <td>2017.100675</td>\n",
              "      <td>22896.685039</td>\n",
              "      <td>24827.244001</td>\n",
              "      <td>126.011436</td>\n",
              "      <td>50.770022</td>\n",
              "      <td>1.930709</td>\n",
              "    </tr>\n",
              "    <tr>\n",
              "      <th>std</th>\n",
              "      <td>2.167494</td>\n",
              "      <td>11714.841888</td>\n",
              "      <td>23505.257205</td>\n",
              "      <td>67.170294</td>\n",
              "      <td>12.949782</td>\n",
              "      <td>0.602957</td>\n",
              "    </tr>\n",
              "    <tr>\n",
              "      <th>min</th>\n",
              "      <td>1997.000000</td>\n",
              "      <td>1490.000000</td>\n",
              "      <td>1.000000</td>\n",
              "      <td>0.000000</td>\n",
              "      <td>18.900000</td>\n",
              "      <td>0.000000</td>\n",
              "    </tr>\n",
              "    <tr>\n",
              "      <th>25%</th>\n",
              "      <td>2016.000000</td>\n",
              "      <td>15130.750000</td>\n",
              "      <td>5968.750000</td>\n",
              "      <td>125.000000</td>\n",
              "      <td>40.900000</td>\n",
              "      <td>1.500000</td>\n",
              "    </tr>\n",
              "    <tr>\n",
              "      <th>50%</th>\n",
              "      <td>2017.000000</td>\n",
              "      <td>20200.000000</td>\n",
              "      <td>19000.000000</td>\n",
              "      <td>145.000000</td>\n",
              "      <td>49.600000</td>\n",
              "      <td>2.000000</td>\n",
              "    </tr>\n",
              "    <tr>\n",
              "      <th>75%</th>\n",
              "      <td>2019.000000</td>\n",
              "      <td>27990.000000</td>\n",
              "      <td>36464.500000</td>\n",
              "      <td>145.000000</td>\n",
              "      <td>58.900000</td>\n",
              "      <td>2.000000</td>\n",
              "    </tr>\n",
              "    <tr>\n",
              "      <th>max</th>\n",
              "      <td>2020.000000</td>\n",
              "      <td>145000.000000</td>\n",
              "      <td>323000.000000</td>\n",
              "      <td>580.000000</td>\n",
              "      <td>188.300000</td>\n",
              "      <td>6.300000</td>\n",
              "    </tr>\n",
              "  </tbody>\n",
              "</table>\n",
              "</div>\n",
              "      <button class=\"colab-df-convert\" onclick=\"convertToInteractive('df-56033a04-cc96-4182-bf3e-f3e6c781ca4b')\"\n",
              "              title=\"Convert this dataframe to an interactive table.\"\n",
              "              style=\"display:none;\">\n",
              "        \n",
              "  <svg xmlns=\"http://www.w3.org/2000/svg\" height=\"24px\"viewBox=\"0 0 24 24\"\n",
              "       width=\"24px\">\n",
              "    <path d=\"M0 0h24v24H0V0z\" fill=\"none\"/>\n",
              "    <path d=\"M18.56 5.44l.94 2.06.94-2.06 2.06-.94-2.06-.94-.94-2.06-.94 2.06-2.06.94zm-11 1L8.5 8.5l.94-2.06 2.06-.94-2.06-.94L8.5 2.5l-.94 2.06-2.06.94zm10 10l.94 2.06.94-2.06 2.06-.94-2.06-.94-.94-2.06-.94 2.06-2.06.94z\"/><path d=\"M17.41 7.96l-1.37-1.37c-.4-.4-.92-.59-1.43-.59-.52 0-1.04.2-1.43.59L10.3 9.45l-7.72 7.72c-.78.78-.78 2.05 0 2.83L4 21.41c.39.39.9.59 1.41.59.51 0 1.02-.2 1.41-.59l7.78-7.78 2.81-2.81c.8-.78.8-2.07 0-2.86zM5.41 20L4 18.59l7.72-7.72 1.47 1.35L5.41 20z\"/>\n",
              "  </svg>\n",
              "      </button>\n",
              "      \n",
              "  <style>\n",
              "    .colab-df-container {\n",
              "      display:flex;\n",
              "      flex-wrap:wrap;\n",
              "      gap: 12px;\n",
              "    }\n",
              "\n",
              "    .colab-df-convert {\n",
              "      background-color: #E8F0FE;\n",
              "      border: none;\n",
              "      border-radius: 50%;\n",
              "      cursor: pointer;\n",
              "      display: none;\n",
              "      fill: #1967D2;\n",
              "      height: 32px;\n",
              "      padding: 0 0 0 0;\n",
              "      width: 32px;\n",
              "    }\n",
              "\n",
              "    .colab-df-convert:hover {\n",
              "      background-color: #E2EBFA;\n",
              "      box-shadow: 0px 1px 2px rgba(60, 64, 67, 0.3), 0px 1px 3px 1px rgba(60, 64, 67, 0.15);\n",
              "      fill: #174EA6;\n",
              "    }\n",
              "\n",
              "    [theme=dark] .colab-df-convert {\n",
              "      background-color: #3B4455;\n",
              "      fill: #D2E3FC;\n",
              "    }\n",
              "\n",
              "    [theme=dark] .colab-df-convert:hover {\n",
              "      background-color: #434B5C;\n",
              "      box-shadow: 0px 1px 3px 1px rgba(0, 0, 0, 0.15);\n",
              "      filter: drop-shadow(0px 1px 2px rgba(0, 0, 0, 0.3));\n",
              "      fill: #FFFFFF;\n",
              "    }\n",
              "  </style>\n",
              "\n",
              "      <script>\n",
              "        const buttonEl =\n",
              "          document.querySelector('#df-56033a04-cc96-4182-bf3e-f3e6c781ca4b button.colab-df-convert');\n",
              "        buttonEl.style.display =\n",
              "          google.colab.kernel.accessAllowed ? 'block' : 'none';\n",
              "\n",
              "        async function convertToInteractive(key) {\n",
              "          const element = document.querySelector('#df-56033a04-cc96-4182-bf3e-f3e6c781ca4b');\n",
              "          const dataTable =\n",
              "            await google.colab.kernel.invokeFunction('convertToInteractive',\n",
              "                                                     [key], {});\n",
              "          if (!dataTable) return;\n",
              "\n",
              "          const docLinkHtml = 'Like what you see? Visit the ' +\n",
              "            '<a target=\"_blank\" href=https://colab.research.google.com/notebooks/data_table.ipynb>data table notebook</a>'\n",
              "            + ' to learn more about interactive tables.';\n",
              "          element.innerHTML = '';\n",
              "          dataTable['output_type'] = 'display_data';\n",
              "          await google.colab.output.renderOutput(dataTable, element);\n",
              "          const docLink = document.createElement('div');\n",
              "          docLink.innerHTML = docLinkHtml;\n",
              "          element.appendChild(docLink);\n",
              "        }\n",
              "      </script>\n",
              "    </div>\n",
              "  </div>\n",
              "  "
            ],
            "text/plain": [
              "               year          price  ...           mpg    engineSize\n",
              "count  10668.000000   10668.000000  ...  10668.000000  10668.000000\n",
              "mean    2017.100675   22896.685039  ...     50.770022      1.930709\n",
              "std        2.167494   11714.841888  ...     12.949782      0.602957\n",
              "min     1997.000000    1490.000000  ...     18.900000      0.000000\n",
              "25%     2016.000000   15130.750000  ...     40.900000      1.500000\n",
              "50%     2017.000000   20200.000000  ...     49.600000      2.000000\n",
              "75%     2019.000000   27990.000000  ...     58.900000      2.000000\n",
              "max     2020.000000  145000.000000  ...    188.300000      6.300000\n",
              "\n",
              "[8 rows x 6 columns]"
            ]
          },
          "metadata": {},
          "execution_count": 6
        }
      ],
      "execution_count": null,
      "metadata": {
        "id": "NO3sOnhn6maa",
        "execution": {
          "iopub.status.busy": "2022-02-09T17:59:05.815Z",
          "iopub.execute_input": "2022-02-09T17:59:05.822Z",
          "iopub.status.idle": "2022-02-09T17:59:05.832Z",
          "shell.execute_reply": "2022-02-09T17:59:05.839Z"
        },
        "colab": {
          "base_uri": "https://localhost:8080/",
          "height": 296
        },
        "outputId": "95cd138c-374e-4237-e7ee-7fb217d6538f"
      }
    },
    {
      "cell_type": "code",
      "source": [
        "# using seaborn, craete a lineplot() with year on the x axis and price on the y axis\n",
        "sb.lineplot(x=df['year'], y=df['price'])"
      ],
      "outputs": [
        {
          "output_type": "execute_result",
          "data": {
            "text/plain": [
              "<matplotlib.axes._subplots.AxesSubplot at 0x7f4d7c622bd0>"
            ]
          },
          "metadata": {},
          "execution_count": 7
        },
        {
          "output_type": "display_data",
          "data": {
            "image/png": "[encoded data removed]",
            "text/plain": [
              "<Figure size 432x288 with 1 Axes>"
            ]
          },
          "metadata": {
            "needs_background": "light"
          }
        }
      ],
      "execution_count": null,
      "metadata": {
        "id": "5i0mvNwO7AH8",
        "execution": {
          "iopub.status.busy": "2022-02-09T17:59:58.922Z",
          "iopub.execute_input": "2022-02-09T17:59:58.928Z",
          "iopub.status.idle": "2022-02-09T17:59:58.941Z",
          "shell.execute_reply": "2022-02-09T17:59:58.947Z"
        },
        "colab": {
          "base_uri": "https://localhost:8080/",
          "height": 297
        },
        "outputId": "919358fb-2a0a-4862-f941-7708087b10f1"
      }
    },
    {
      "cell_type": "code",
      "source": [
        "# create another plot exploring the data\n",
        "# choose columns and plot type\n",
        "\n",
        "sb.relplot(x='year', y='price', data=df)"
      ],
      "outputs": [
        {
          "output_type": "execute_result",
          "data": {
            "text/plain": [
              "<seaborn.axisgrid.FacetGrid at 0x7f4d7c54c1d0>"
            ]
          },
          "metadata": {},
          "execution_count": 8
        },
        {
          "output_type": "display_data",
          "data": {
            "image/png": "[encoded data removed]",
            "text/plain": [
              "<Figure size 360x360 with 1 Axes>"
            ]
          },
          "metadata": {
            "needs_background": "light"
          }
        }
      ],
      "execution_count": null,
      "metadata": {
        "id": "8ILFx3plBn53",
        "execution": {
          "iopub.status.busy": "2022-02-09T18:00:25.992Z",
          "iopub.execute_input": "2022-02-09T18:00:25.999Z",
          "iopub.status.idle": "2022-02-09T18:00:26.009Z",
          "shell.execute_reply": "2022-02-09T18:00:26.016Z"
        },
        "colab": {
          "base_uri": "https://localhost:8080/",
          "height": 387
        },
        "outputId": "99de0ca3-4d95-4015-87c4-8f312f162b1a"
      }
    },
    {
      "cell_type": "markdown",
      "source": [
        "### Step 4 Prepare Data\n",
        "\n",
        "You can use the code below for this step. \n",
        "\n"
      ],
      "metadata": {
        "id": "8piYMXh6B_Nc"
      }
    },
    {
      "cell_type": "code",
      "source": [
        "# set up X and y\n",
        "\n",
        "X=df.drop(columns=['price'],axis=1)\n",
        "y=df['price']"
      ],
      "outputs": [],
      "execution_count": null,
      "metadata": {
        "id": "JhllC618CPM5"
      }
    },
    {
      "cell_type": "code",
      "source": [
        "import numpy as np\n",
        "from sklearn.preprocessing import MinMaxScaler, LabelBinarizer\n",
        "from sklearn.compose import ColumnTransformer\n",
        "from sklearn.model_selection import train_test_split\n",
        "\n",
        "\n",
        "X_train,X_test,y_train,y_test=train_test_split(X, y, test_size=0.2)\n",
        "\n",
        "# scale the numeric data\n",
        "col_list = ['year', 'mileage', 'tax', 'mpg', 'engineSize']\n",
        "scaler = MinMaxScaler()\n",
        "train_numeric = scaler.fit_transform(X_train[col_list])\n",
        "test_numeric = scaler.transform(X_test[col_list])\n",
        "\n",
        "# one-hot encode the categorical data for model, transmission, and fuelType\n",
        "# model\n",
        "zipBinarizer = LabelBinarizer().fit(df['model'])\n",
        "train_model = zipBinarizer.transform(X_train['model'])\n",
        "test_model = zipBinarizer.transform(X_test['model'])\n",
        "# transmission\n",
        "zipBinarizer = LabelBinarizer().fit(df['transmission'])\n",
        "train_transmission = zipBinarizer.transform(X_train['transmission'])\n",
        "test_transmission = zipBinarizer.transform(X_test['transmission'])\n",
        "# fuelType\n",
        "zipBinarizer = LabelBinarizer().fit(df['fuelType'])\n",
        "train_fuelType = zipBinarizer.transform(X_train['fuelType'])\n",
        "test_fuelType = zipBinarizer.transform(X_test['fuelType'])\n",
        "\n",
        "# concatenate\n",
        "X_train_input = np.hstack([train_numeric, train_model, train_transmission, train_fuelType])\n",
        "X_test_input = np.hstack([test_numeric, test_model, test_transmission, test_fuelType])\n",
        "\n",
        "print(X_train_input[:3])\n"
      ],
      "outputs": [
        {
          "output_type": "stream",
          "name": "stdout",
          "text": [
            "[[0.82608696 0.08549562 0.34482759 0.16646989 0.31746032 0.\n",
            "  0.         0.         0.         0.         0.         0.\n",
            "  0.         0.         0.         1.         0.         0.\n",
            "  0.         0.         0.         0.         0.         0.\n",
            "  0.         0.         0.         0.         0.         0.\n",
            "  0.         1.         0.         0.         1.         0.\n",
            "  0.        ]\n",
            " [0.82608696 0.16956399 0.25       0.22195986 0.31746032 0.\n",
            "  0.         0.         0.         1.         0.         0.\n",
            "  0.         0.         0.         0.         0.         0.\n",
            "  0.         0.         0.         0.         0.         0.\n",
            "  0.         0.         0.         0.         0.         0.\n",
            "  0.         0.         1.         0.         1.         0.\n",
            "  0.        ]\n",
            " [0.86956522 0.06832219 0.34482759 0.12691854 0.31746032 1.\n",
            "  0.         0.         0.         0.         0.         0.\n",
            "  0.         0.         0.         0.         0.         0.\n",
            "  0.         0.         0.         0.         0.         0.\n",
            "  0.         0.         0.         0.         0.         0.\n",
            "  0.         0.         1.         0.         0.         0.\n",
            "  1.        ]]\n"
          ]
        }
      ],
      "execution_count": null,
      "metadata": {
        "id": "1Gi4lnnaCPUV",
        "colab": {
          "base_uri": "https://localhost:8080/"
        },
        "outputId": "0b0c26c5-0e5c-442e-bca5-efce2d4df9b5"
      }
    },
    {
      "cell_type": "markdown",
      "source": [
        "### Step 5 Linear regression\n",
        "\n",
        "Run linear regression in sklearn. "
      ],
      "metadata": {
        "id": "QbG9IUksmHci"
      }
    },
    {
      "cell_type": "code",
      "source": [
        "# train the algorithm\n",
        "from sklearn.linear_model import LinearRegression\n",
        "\n",
        "linreg = LinearRegression()\n",
        "linreg.fit(X_train_input, y_train)"
      ],
      "outputs": [
        {
          "output_type": "execute_result",
          "data": {
            "text/plain": [
              "LinearRegression()"
            ]
          },
          "metadata": {},
          "execution_count": 24
        }
      ],
      "execution_count": null,
      "metadata": {
        "id": "5pgB8IzVCPbf",
        "execution": {
          "iopub.status.busy": "2022-02-09T18:01:24.149Z",
          "iopub.execute_input": "2022-02-09T18:01:24.156Z",
          "iopub.status.idle": "2022-02-09T18:01:24.168Z",
          "shell.execute_reply": "2022-02-09T18:01:24.174Z"
        },
        "colab": {
          "base_uri": "https://localhost:8080/"
        },
        "outputId": "206ece30-6180-4a08-be5b-e969ab2d104e"
      }
    },
    {
      "cell_type": "code",
      "source": [
        "# make predictions\n",
        "y_pred = linreg.predict(X_test_input)\n"
      ],
      "outputs": [],
      "execution_count": null,
      "metadata": {
        "id": "VtxNA2xRC_9w",
        "execution": {
          "iopub.status.busy": "2022-02-09T18:01:29.090Z",
          "iopub.execute_input": "2022-02-09T18:01:29.096Z",
          "iopub.status.idle": "2022-02-09T18:01:29.108Z",
          "shell.execute_reply": "2022-02-09T18:01:29.114Z"
        }
      }
    },
    {
      "cell_type": "code",
      "source": [
        "# evaluation on the test data using mse, mae, and r2_score\n",
        "from sklearn.metrics import mean_squared_error, mean_absolute_error, r2_score\n",
        "\n",
        "print('MSE: ', mean_squared_error(y_test, y_pred))\n",
        "print('MAE: ', mean_absolute_error(y_test, y_pred))\n",
        "print('r2: ', r2_score(y_test, y_pred))"
      ],
      "outputs": [
        {
          "output_type": "stream",
          "name": "stdout",
          "text": [
            "MSE:  14011962.625299402\n",
            "MAE:  2547.2941618731647\n",
            "r2:  0.8872992801931721\n"
          ]
        }
      ],
      "execution_count": null,
      "metadata": {
        "id": "Nh_m31RSDAB5",
        "execution": {
          "iopub.status.busy": "2022-02-09T18:01:58.423Z",
          "iopub.execute_input": "2022-02-09T18:01:58.431Z",
          "iopub.status.idle": "2022-02-09T18:01:58.441Z",
          "shell.execute_reply": "2022-02-09T18:01:58.448Z"
        },
        "colab": {
          "base_uri": "https://localhost:8080/"
        },
        "outputId": "7e586bf2-14e1-4176-ce5b-d8138e00b91c"
      }
    },
    {
      "cell_type": "code",
      "source": [
        "# display the first 5 predictions\n",
        "print(y_pred[:5])"
      ],
      "outputs": [
        {
          "output_type": "stream",
          "name": "stdout",
          "text": [
            "[30522.97956788 12908.02941015 10678.90954458 27933.18126284\n",
            " 19806.44953011]\n"
          ]
        }
      ],
      "execution_count": null,
      "metadata": {
        "id": "6fWjIcfSjCIP",
        "execution": {
          "iopub.status.busy": "2022-02-09T18:02:11.834Z",
          "iopub.execute_input": "2022-02-09T18:02:11.840Z",
          "iopub.status.idle": "2022-02-09T18:02:11.851Z",
          "shell.execute_reply": "2022-02-09T18:02:11.856Z"
        },
        "colab": {
          "base_uri": "https://localhost:8080/"
        },
        "outputId": "98237cbd-e243-4b1f-c117-eb6e207ca8fa"
      }
    },
    {
      "cell_type": "code",
      "source": [
        "# display the first 5 actual values\n",
        "print(y_test[:5])"
      ],
      "outputs": [
        {
          "output_type": "stream",
          "name": "stdout",
          "text": [
            "6051    31490\n",
            "9284    12895\n",
            "3562    11498\n",
            "2780    25636\n",
            "7542    31888\n",
            "Name: price, dtype: int64\n"
          ]
        }
      ],
      "execution_count": null,
      "metadata": {
        "id": "6014OTfujFtx",
        "execution": {
          "iopub.status.busy": "2022-02-09T18:02:22.023Z",
          "iopub.execute_input": "2022-02-09T18:02:22.028Z",
          "iopub.status.idle": "2022-02-09T18:02:22.038Z",
          "shell.execute_reply": "2022-02-09T18:02:22.043Z"
        },
        "colab": {
          "base_uri": "https://localhost:8080/"
        },
        "outputId": "027b4bb1-378f-438b-b2fd-9f42217ef755"
      }
    },
    {
      "cell_type": "markdown",
      "source": [
        "### Regression in Keras"
      ],
      "metadata": {
        "id": "gifC_-jYmxf5"
      }
    },
    {
      "cell_type": "code",
      "source": [
        "# build a sequential model\n",
        "# choose the architecture\n",
        "\n",
        "from tensorflow import keras\n",
        "from tensorflow.keras import layers\n",
        "\n",
        "model = keras.Sequential([\n",
        "                          layers.Dense(500, activation='relu'),\n",
        "                          layers.Dense(250, activation='relu'),\n",
        "                          layers.Dense(64, activation='relu'),\n",
        "                          layers.Dense(1)                        \n",
        "])\n",
        "\n"
      ],
      "outputs": [],
      "execution_count": null,
      "metadata": {
        "id": "YQWReKSIDAGg"
      }
    },
    {
      "cell_type": "code",
      "source": [
        "# compile the model\n",
        "model.compile(optimizer=\"rmsprop\", loss=\"mean_squared_error\", metrics=[\"mse\",\"mae\"])\n"
      ],
      "outputs": [],
      "execution_count": null,
      "metadata": {
        "id": "0wRryCnQD2qX",
        "execution": {
          "iopub.status.busy": "2022-02-09T18:02:55.257Z",
          "iopub.execute_input": "2022-02-09T18:02:55.263Z",
          "iopub.status.idle": "2022-02-09T18:02:55.272Z",
          "shell.execute_reply": "2022-02-09T18:02:55.277Z"
        }
      }
    },
    {
      "cell_type": "code",
      "source": [
        "# train the model\n",
        "model.fit(X_train_input, y_train, epochs=100, batch_size=128)\n"
      ],
      "outputs": [
        {
          "output_type": "stream",
          "name": "stdout",
          "text": [
            "Epoch 1/100\n",
            "67/67 [==============================] - 1s 7ms/step - loss: 619959040.0000 - mse: 619959040.0000 - mae: 21855.7930\n",
            "Epoch 2/100\n",
            "67/67 [==============================] - 0s 7ms/step - loss: 281802496.0000 - mse: 281802496.0000 - mae: 12245.7539\n",
            "Epoch 3/100\n",
            "67/67 [==============================] - 0s 7ms/step - loss: 111740408.0000 - mse: 111740408.0000 - mae: 7269.6201\n",
            "Epoch 4/100\n",
            "67/67 [==============================] - 0s 7ms/step - loss: 88065344.0000 - mse: 88065344.0000 - mae: 6260.7168\n",
            "Epoch 5/100\n",
            "67/67 [==============================] - 0s 7ms/step - loss: 73720224.0000 - mse: 73720224.0000 - mae: 5563.8672\n",
            "Epoch 6/100\n",
            "67/67 [==============================] - 0s 7ms/step - loss: 63755056.0000 - mse: 63755056.0000 - mae: 5116.3281\n",
            "Epoch 7/100\n",
            "67/67 [==============================] - 0s 7ms/step - loss: 54536584.0000 - mse: 54536584.0000 - mae: 4674.6709\n",
            "Epoch 8/100\n",
            "67/67 [==============================] - 0s 7ms/step - loss: 46823548.0000 - mse: 46823548.0000 - mae: 4262.5083\n",
            "Epoch 9/100\n",
            "67/67 [==============================] - 0s 7ms/step - loss: 39333576.0000 - mse: 39333576.0000 - mae: 3835.3945\n",
            "Epoch 10/100\n",
            "67/67 [==============================] - 0s 7ms/step - loss: 33072818.0000 - mse: 33072818.0000 - mae: 3458.8335\n",
            "Epoch 11/100\n",
            "67/67 [==============================] - 0s 7ms/step - loss: 27457448.0000 - mse: 27457448.0000 - mae: 3103.5696\n",
            "Epoch 12/100\n",
            "67/67 [==============================] - 0s 7ms/step - loss: 22992696.0000 - mse: 22992696.0000 - mae: 2826.8145\n",
            "Epoch 13/100\n",
            "67/67 [==============================] - 0s 7ms/step - loss: 19716570.0000 - mse: 19716570.0000 - mae: 2635.0364\n",
            "Epoch 14/100\n",
            "67/67 [==============================] - 1s 7ms/step - loss: 17534456.0000 - mse: 17534454.0000 - mae: 2531.9922\n",
            "Epoch 15/100\n",
            "67/67 [==============================] - 0s 7ms/step - loss: 15804456.0000 - mse: 15804456.0000 - mae: 2467.0774\n",
            "Epoch 16/100\n",
            "67/67 [==============================] - 0s 7ms/step - loss: 14699066.0000 - mse: 14699066.0000 - mae: 2423.3198\n",
            "Epoch 17/100\n",
            "67/67 [==============================] - 0s 7ms/step - loss: 13845976.0000 - mse: 13845976.0000 - mae: 2369.2217\n",
            "Epoch 18/100\n",
            "67/67 [==============================] - 0s 7ms/step - loss: 13123568.0000 - mse: 13123568.0000 - mae: 2336.2090\n",
            "Epoch 19/100\n",
            "67/67 [==============================] - 0s 7ms/step - loss: 12511255.0000 - mse: 12511255.0000 - mae: 2288.4531\n",
            "Epoch 20/100\n",
            "67/67 [==============================] - 0s 7ms/step - loss: 12048831.0000 - mse: 12048831.0000 - mae: 2253.0740\n",
            "Epoch 21/100\n",
            "67/67 [==============================] - 0s 7ms/step - loss: 11755992.0000 - mse: 11755992.0000 - mae: 2228.8784\n",
            "Epoch 22/100\n",
            "67/67 [==============================] - 0s 7ms/step - loss: 11487631.0000 - mse: 11487631.0000 - mae: 2201.2419\n",
            "Epoch 23/100\n",
            "67/67 [==============================] - 0s 7ms/step - loss: 11224650.0000 - mse: 11224650.0000 - mae: 2182.2661\n",
            "Epoch 24/100\n",
            "67/67 [==============================] - 0s 7ms/step - loss: 11030837.0000 - mse: 11030837.0000 - mae: 2164.4851\n",
            "Epoch 25/100\n",
            "67/67 [==============================] - 0s 6ms/step - loss: 10888161.0000 - mse: 10888161.0000 - mae: 2152.2837\n",
            "Epoch 26/100\n",
            "67/67 [==============================] - 0s 7ms/step - loss: 10707819.0000 - mse: 10707819.0000 - mae: 2126.8179\n",
            "Epoch 27/100\n",
            "67/67 [==============================] - 0s 7ms/step - loss: 10585613.0000 - mse: 10585613.0000 - mae: 2122.3188\n",
            "Epoch 28/100\n",
            "67/67 [==============================] - 0s 7ms/step - loss: 10436756.0000 - mse: 10436756.0000 - mae: 2112.4285\n",
            "Epoch 29/100\n",
            "67/67 [==============================] - 0s 6ms/step - loss: 10313560.0000 - mse: 10313560.0000 - mae: 2095.4019\n",
            "Epoch 30/100\n",
            "67/67 [==============================] - 0s 7ms/step - loss: 10226251.0000 - mse: 10226251.0000 - mae: 2091.9148\n",
            "Epoch 31/100\n",
            "67/67 [==============================] - 0s 7ms/step - loss: 10127758.0000 - mse: 10127758.0000 - mae: 2079.7227\n",
            "Epoch 32/100\n",
            "67/67 [==============================] - 1s 7ms/step - loss: 9983366.0000 - mse: 9983366.0000 - mae: 2078.4885\n",
            "Epoch 33/100\n",
            "67/67 [==============================] - 0s 7ms/step - loss: 9885531.0000 - mse: 9885531.0000 - mae: 2064.5620\n",
            "Epoch 34/100\n",
            "67/67 [==============================] - 0s 7ms/step - loss: 9767319.0000 - mse: 9767319.0000 - mae: 2052.9260\n",
            "Epoch 35/100\n",
            "67/67 [==============================] - 0s 7ms/step - loss: 9604972.0000 - mse: 9604972.0000 - mae: 2034.0626\n",
            "Epoch 36/100\n",
            "67/67 [==============================] - 0s 7ms/step - loss: 9605428.0000 - mse: 9605428.0000 - mae: 2039.9147\n",
            "Epoch 37/100\n",
            "67/67 [==============================] - 0s 7ms/step - loss: 9424261.0000 - mse: 9424261.0000 - mae: 2012.5482\n",
            "Epoch 38/100\n",
            "67/67 [==============================] - 0s 7ms/step - loss: 9381343.0000 - mse: 9381343.0000 - mae: 2017.5154\n",
            "Epoch 39/100\n",
            "67/67 [==============================] - 0s 7ms/step - loss: 9271119.0000 - mse: 9271119.0000 - mae: 2001.6820\n",
            "Epoch 40/100\n",
            "67/67 [==============================] - 0s 6ms/step - loss: 9197247.0000 - mse: 9197247.0000 - mae: 1995.9852\n",
            "Epoch 41/100\n",
            "67/67 [==============================] - 0s 7ms/step - loss: 9156344.0000 - mse: 9156344.0000 - mae: 1991.9290\n",
            "Epoch 42/100\n",
            "67/67 [==============================] - 0s 7ms/step - loss: 9057098.0000 - mse: 9057098.0000 - mae: 1984.3124\n",
            "Epoch 43/100\n",
            "67/67 [==============================] - 0s 7ms/step - loss: 9007023.0000 - mse: 9007023.0000 - mae: 1969.4877\n",
            "Epoch 44/100\n",
            "67/67 [==============================] - 0s 7ms/step - loss: 8895024.0000 - mse: 8895024.0000 - mae: 1967.1949\n",
            "Epoch 45/100\n",
            "67/67 [==============================] - 0s 7ms/step - loss: 8848951.0000 - mse: 8848951.0000 - mae: 1970.0551\n",
            "Epoch 46/100\n",
            "67/67 [==============================] - 0s 6ms/step - loss: 8849604.0000 - mse: 8849604.0000 - mae: 1960.9147\n",
            "Epoch 47/100\n",
            "67/67 [==============================] - 0s 7ms/step - loss: 8735447.0000 - mse: 8735447.0000 - mae: 1946.7535\n",
            "Epoch 48/100\n",
            "67/67 [==============================] - 0s 7ms/step - loss: 8711692.0000 - mse: 8711692.0000 - mae: 1948.3777\n",
            "Epoch 49/100\n",
            "67/67 [==============================] - 0s 7ms/step - loss: 8689834.0000 - mse: 8689834.0000 - mae: 1937.8955\n",
            "Epoch 50/100\n",
            "67/67 [==============================] - 0s 7ms/step - loss: 8643069.0000 - mse: 8643069.0000 - mae: 1934.9734\n",
            "Epoch 51/100\n",
            "67/67 [==============================] - 1s 8ms/step - loss: 8557806.0000 - mse: 8557806.0000 - mae: 1929.9071\n",
            "Epoch 52/100\n",
            "67/67 [==============================] - 0s 7ms/step - loss: 8554246.0000 - mse: 8554246.0000 - mae: 1934.0389\n",
            "Epoch 53/100\n",
            "67/67 [==============================] - 1s 8ms/step - loss: 8503855.0000 - mse: 8503855.0000 - mae: 1918.0837\n",
            "Epoch 54/100\n",
            "67/67 [==============================] - 0s 7ms/step - loss: 8414592.0000 - mse: 8414592.0000 - mae: 1919.1062\n",
            "Epoch 55/100\n",
            "67/67 [==============================] - 0s 7ms/step - loss: 8441315.0000 - mse: 8441315.0000 - mae: 1911.9780\n",
            "Epoch 56/100\n",
            "67/67 [==============================] - 1s 8ms/step - loss: 8372277.0000 - mse: 8372277.0000 - mae: 1906.5020\n",
            "Epoch 57/100\n",
            "67/67 [==============================] - 0s 7ms/step - loss: 8263305.0000 - mse: 8263305.0000 - mae: 1905.1842\n",
            "Epoch 58/100\n",
            "67/67 [==============================] - 0s 7ms/step - loss: 8231547.0000 - mse: 8231547.0000 - mae: 1905.5138\n",
            "Epoch 59/100\n",
            "67/67 [==============================] - 0s 7ms/step - loss: 8228379.0000 - mse: 8228379.0000 - mae: 1897.6858\n",
            "Epoch 60/100\n",
            "67/67 [==============================] - 0s 7ms/step - loss: 8150481.5000 - mse: 8150481.5000 - mae: 1898.6936\n",
            "Epoch 61/100\n",
            "67/67 [==============================] - 0s 7ms/step - loss: 8152889.0000 - mse: 8152889.0000 - mae: 1889.5612\n",
            "Epoch 62/100\n",
            "67/67 [==============================] - 0s 7ms/step - loss: 8105752.5000 - mse: 8105752.5000 - mae: 1887.7343\n",
            "Epoch 63/100\n",
            "67/67 [==============================] - 0s 7ms/step - loss: 8132808.0000 - mse: 8132808.0000 - mae: 1884.5502\n",
            "Epoch 64/100\n",
            "67/67 [==============================] - 0s 7ms/step - loss: 8077369.5000 - mse: 8077369.5000 - mae: 1882.7064\n",
            "Epoch 65/100\n",
            "67/67 [==============================] - 0s 7ms/step - loss: 8022294.0000 - mse: 8022294.0000 - mae: 1878.6219\n",
            "Epoch 66/100\n",
            "67/67 [==============================] - 0s 7ms/step - loss: 8086876.5000 - mse: 8086876.5000 - mae: 1875.4324\n",
            "Epoch 67/100\n",
            "67/67 [==============================] - 0s 7ms/step - loss: 7941038.0000 - mse: 7941038.0000 - mae: 1869.4478\n",
            "Epoch 68/100\n",
            "67/67 [==============================] - 0s 7ms/step - loss: 7963058.5000 - mse: 7963058.5000 - mae: 1871.4523\n",
            "Epoch 69/100\n",
            "67/67 [==============================] - 0s 7ms/step - loss: 7886231.0000 - mse: 7886231.0000 - mae: 1860.9008\n",
            "Epoch 70/100\n",
            "67/67 [==============================] - 0s 7ms/step - loss: 7951073.5000 - mse: 7951073.5000 - mae: 1870.6771\n",
            "Epoch 71/100\n",
            "67/67 [==============================] - 0s 7ms/step - loss: 7837770.0000 - mse: 7837770.0000 - mae: 1860.9351\n",
            "Epoch 72/100\n",
            "67/67 [==============================] - 0s 6ms/step - loss: 7886041.0000 - mse: 7886041.0000 - mae: 1856.6467\n",
            "Epoch 73/100\n",
            "67/67 [==============================] - 0s 7ms/step - loss: 7824679.5000 - mse: 7824679.5000 - mae: 1852.3724\n",
            "Epoch 74/100\n",
            "67/67 [==============================] - 0s 7ms/step - loss: 7806488.0000 - mse: 7806488.0000 - mae: 1851.2395\n",
            "Epoch 75/100\n",
            "67/67 [==============================] - 0s 7ms/step - loss: 7721514.0000 - mse: 7721514.0000 - mae: 1847.9458\n",
            "Epoch 76/100\n",
            "67/67 [==============================] - 0s 7ms/step - loss: 7815334.5000 - mse: 7815334.5000 - mae: 1852.2991\n",
            "Epoch 77/100\n",
            "67/67 [==============================] - 1s 8ms/step - loss: 7757557.0000 - mse: 7757557.0000 - mae: 1844.0645\n",
            "Epoch 78/100\n",
            "67/67 [==============================] - 0s 7ms/step - loss: 7651753.0000 - mse: 7651753.0000 - mae: 1840.1561\n",
            "Epoch 79/100\n",
            "67/67 [==============================] - 1s 8ms/step - loss: 7727640.5000 - mse: 7727640.5000 - mae: 1854.3735\n",
            "Epoch 80/100\n",
            "67/67 [==============================] - 0s 7ms/step - loss: 7652880.0000 - mse: 7652880.0000 - mae: 1839.7435\n",
            "Epoch 81/100\n",
            "67/67 [==============================] - 0s 7ms/step - loss: 7681419.0000 - mse: 7681419.0000 - mae: 1839.4386\n",
            "Epoch 82/100\n",
            "67/67 [==============================] - 0s 7ms/step - loss: 7625214.5000 - mse: 7625214.5000 - mae: 1837.7517\n",
            "Epoch 83/100\n",
            "67/67 [==============================] - 0s 7ms/step - loss: 7654751.0000 - mse: 7654751.0000 - mae: 1841.9664\n",
            "Epoch 84/100\n",
            "67/67 [==============================] - 0s 7ms/step - loss: 7636537.0000 - mse: 7636537.0000 - mae: 1837.1636\n",
            "Epoch 85/100\n",
            "67/67 [==============================] - 1s 8ms/step - loss: 7546373.5000 - mse: 7546373.5000 - mae: 1826.9465\n",
            "Epoch 86/100\n",
            "67/67 [==============================] - 1s 7ms/step - loss: 7482979.0000 - mse: 7482979.0000 - mae: 1827.6372\n",
            "Epoch 87/100\n",
            "67/67 [==============================] - 1s 7ms/step - loss: 7487511.0000 - mse: 7487511.0000 - mae: 1823.8608\n",
            "Epoch 88/100\n",
            "67/67 [==============================] - 0s 7ms/step - loss: 7461997.5000 - mse: 7461997.5000 - mae: 1821.3047\n",
            "Epoch 89/100\n",
            "67/67 [==============================] - 1s 8ms/step - loss: 7457017.5000 - mse: 7457017.5000 - mae: 1825.5608\n",
            "Epoch 90/100\n",
            "67/67 [==============================] - 1s 7ms/step - loss: 7457679.5000 - mse: 7457679.5000 - mae: 1827.4209\n",
            "Epoch 91/100\n",
            "67/67 [==============================] - 1s 8ms/step - loss: 7422442.0000 - mse: 7422442.0000 - mae: 1823.5182\n",
            "Epoch 92/100\n",
            "67/67 [==============================] - 0s 7ms/step - loss: 7422161.0000 - mse: 7422161.0000 - mae: 1816.2169\n",
            "Epoch 93/100\n",
            "67/67 [==============================] - 0s 7ms/step - loss: 7354672.5000 - mse: 7354672.5000 - mae: 1811.5297\n",
            "Epoch 94/100\n",
            "67/67 [==============================] - 0s 7ms/step - loss: 7416666.0000 - mse: 7416666.0000 - mae: 1826.9174\n",
            "Epoch 95/100\n",
            "67/67 [==============================] - 1s 8ms/step - loss: 7381704.0000 - mse: 7381704.0000 - mae: 1818.7980\n",
            "Epoch 96/100\n",
            "67/67 [==============================] - 0s 7ms/step - loss: 7360501.5000 - mse: 7360501.5000 - mae: 1810.4109\n",
            "Epoch 97/100\n",
            "67/67 [==============================] - 1s 8ms/step - loss: 7309826.0000 - mse: 7309826.0000 - mae: 1815.8947\n",
            "Epoch 98/100\n",
            "67/67 [==============================] - 0s 7ms/step - loss: 7253979.5000 - mse: 7253979.5000 - mae: 1800.5842\n",
            "Epoch 99/100\n",
            "67/67 [==============================] - 0s 7ms/step - loss: 7296590.0000 - mse: 7296590.0000 - mae: 1813.0549\n",
            "Epoch 100/100\n",
            "67/67 [==============================] - 0s 7ms/step - loss: 7305990.5000 - mse: 7305990.5000 - mae: 1812.7698\n"
          ]
        },
        {
          "output_type": "execute_result",
          "data": {
            "text/plain": [
              "<keras.callbacks.History at 0x7f4d0b945590>"
            ]
          },
          "metadata": {},
          "execution_count": 22
        }
      ],
      "execution_count": null,
      "metadata": {
        "id": "2S9rgkHBD2ux",
        "execution": {
          "iopub.status.busy": "2022-02-09T18:03:01.932Z",
          "iopub.execute_input": "2022-02-09T18:03:01.939Z",
          "iopub.status.idle": "2022-02-09T18:03:01.949Z",
          "shell.execute_reply": "2022-02-09T18:03:01.955Z"
        },
        "colab": {
          "base_uri": "https://localhost:8080/"
        },
        "outputId": "0b1fbc07-5405-414f-a259-ac43788e254d"
      }
    },
    {
      "cell_type": "code",
      "source": [
        "# output test mse score, test mae score\n",
        "\n",
        "loss, test_mse, test_mae = model.evaluate(X_test_input, y_test)\n",
        "print('MSE:', test_mse)\n",
        "print('MAE:', test_mae)\n",
        "\n",
        "\n"
      ],
      "outputs": [
        {
          "output_type": "stream",
          "name": "stdout",
          "text": [
            "67/67 [==============================] - 0s 2ms/step - loss: 6042085.5000 - mse: 6042085.5000 - mae: 1705.4005\n",
            "MSE: 6042085.5\n",
            "MAE: 1705.4005126953125\n"
          ]
        }
      ],
      "execution_count": null,
      "metadata": {
        "id": "Uq8OiVoVD2zk",
        "execution": {
          "iopub.status.busy": "2022-02-09T18:03:19.101Z",
          "iopub.execute_input": "2022-02-09T18:03:19.107Z",
          "iopub.status.idle": "2022-02-09T18:03:19.117Z",
          "shell.execute_reply": "2022-02-09T18:03:19.124Z"
        },
        "colab": {
          "base_uri": "https://localhost:8080/"
        },
        "outputId": "337d81bc-df98-4ec2-ec63-3a59c2e8e77a"
      }
    },
    {
      "cell_type": "markdown",
      "source": [
        "### Step 7 Commentary\n",
        "\n",
        "Answer the following questions:\n",
        "\n",
        "a. Compare metrics from sklearn and Keras. \n",
        "\n",
        "\n",
        "b. Explore the data a bit more to speculate on why you achieved the results you got. \n",
        "\n",
        "\n",
        "c. Describe all the architectures/hyperparameters you tried and the results. What do you conclude?\n",
        "\n"
      ],
      "metadata": {
        "id": "7zB7XtbknGn2"
      }
    },
    {
      "cell_type": "markdown",
      "source": [
        "a. \n",
        "\n",
        "Sklearn:\n",
        "\n",
        "- MSE:  14011962.625299402\n",
        "- MAE:  2547.2941618731647\n",
        "- r2:  0.8872992801931721\n",
        "\n",
        "Keras:\n",
        "\n",
        "- MSE: 6042085.5\n",
        "- MAE: 1705.4005126953125\n",
        "\n",
        "Keras did significantly better than sklearn \n",
        "\n",
        "\n",
        "b. I think my results were not that great. I think we are using too many\n",
        "predictors which cause too much noise for the algorithms to work with efficiently. Removing unneeded predictors could possibly improve the results. Also, the various predictors have a wide range so scaling or normalizing the data could also prove effective.\n",
        "   \n",
        "c. One of the first models I tried was 1 layer with 5 nodes with relu as\n",
        "the activation function. I used rmsprop as the optimizer, and mean_squared_error as the loss function. I got a mse score of 675202112.0000 and a mae score of 23048.5840. Which, of course, is extremely poor.\n",
        "\n",
        "Next, I changed the model architecture to 3 layers with 64 nodes in layers 1 and 2 and 1 node in the last layer. The results were much better \n",
        "at mseL 9855431.0000 and mae: 2057.0847\n",
        "\n",
        "The best results I got was with 4 layers of 500, 250, 64, 1 and 100 epochs. \n",
        "MSE: 6042085.5\n",
        "MAE: 1705.4005126953125 \n"
      ],
      "metadata": {
        "id": "bGMcEB02Oljx"
      }
    }
  ],
  "metadata": {
    "colab": {
      "name": "Hm5-amm180005.ipynb",
      "provenance": [],
      "collapsed_sections": []
    },
    "kernelspec": {
      "name": "python3",
      "display_name": "Python 3"
    },
    "language_info": {
      "name": "python",
      "version": "3.7.3",
      "mimetype": "text/x-python",
      "codemirror_mode": {
        "name": "ipython",
        "version": 3
      },
      "pygments_lexer": "ipython3",
      "nbconvert_exporter": "python",
      "file_extension": ".py"
    },
    "nteract": {
      "version": "0.28.0"
    }
  },
  "nbformat": 4,
  "nbformat_minor": 0
}